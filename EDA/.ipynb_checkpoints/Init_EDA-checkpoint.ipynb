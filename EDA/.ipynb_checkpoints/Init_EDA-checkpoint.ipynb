{
 "cells": [
  {
   "cell_type": "code",
   "execution_count": 1,
   "metadata": {
    "colab": {
     "base_uri": "https://localhost:8080/"
    },
    "id": "012bGItXrC22",
    "outputId": "825009ab-d68f-4131-9640-145034a0ebb7"
   },
   "outputs": [
    {
     "name": "stdout",
     "output_type": "stream",
     "text": [
      "Collecting dnspython\n",
      "  Downloading dnspython-2.1.0-py3-none-any.whl (241 kB)\n",
      "\u001b[?25l\r",
      "\u001b[K     |█▍                              | 10 kB 24.3 MB/s eta 0:00:01\r",
      "\u001b[K     |██▊                             | 20 kB 30.9 MB/s eta 0:00:01\r",
      "\u001b[K     |████                            | 30 kB 12.7 MB/s eta 0:00:01\r",
      "\u001b[K     |█████▍                          | 40 kB 9.7 MB/s eta 0:00:01\r",
      "\u001b[K     |██████▊                         | 51 kB 5.0 MB/s eta 0:00:01\r",
      "\u001b[K     |████████▏                       | 61 kB 5.4 MB/s eta 0:00:01\r",
      "\u001b[K     |█████████▌                      | 71 kB 5.8 MB/s eta 0:00:01\r",
      "\u001b[K     |██████████▉                     | 81 kB 6.5 MB/s eta 0:00:01\r",
      "\u001b[K     |████████████▏                   | 92 kB 6.8 MB/s eta 0:00:01\r",
      "\u001b[K     |█████████████▌                  | 102 kB 5.2 MB/s eta 0:00:01\r",
      "\u001b[K     |███████████████                 | 112 kB 5.2 MB/s eta 0:00:01\r",
      "\u001b[K     |████████████████▎               | 122 kB 5.2 MB/s eta 0:00:01\r",
      "\u001b[K     |█████████████████▋              | 133 kB 5.2 MB/s eta 0:00:01\r",
      "\u001b[K     |███████████████████             | 143 kB 5.2 MB/s eta 0:00:01\r",
      "\u001b[K     |████████████████████▎           | 153 kB 5.2 MB/s eta 0:00:01\r",
      "\u001b[K     |█████████████████████▋          | 163 kB 5.2 MB/s eta 0:00:01\r",
      "\u001b[K     |███████████████████████         | 174 kB 5.2 MB/s eta 0:00:01\r",
      "\u001b[K     |████████████████████████▍       | 184 kB 5.2 MB/s eta 0:00:01\r",
      "\u001b[K     |█████████████████████████▊      | 194 kB 5.2 MB/s eta 0:00:01\r",
      "\u001b[K     |███████████████████████████     | 204 kB 5.2 MB/s eta 0:00:01\r",
      "\u001b[K     |████████████████████████████▍   | 215 kB 5.2 MB/s eta 0:00:01\r",
      "\u001b[K     |█████████████████████████████▉  | 225 kB 5.2 MB/s eta 0:00:01\r",
      "\u001b[K     |███████████████████████████████▏| 235 kB 5.2 MB/s eta 0:00:01\r",
      "\u001b[K     |████████████████████████████████| 241 kB 5.2 MB/s \n",
      "\u001b[?25hInstalling collected packages: dnspython\n",
      "Successfully installed dnspython-2.1.0\n"
     ]
    }
   ],
   "source": [
    "!pip install dnspython"
   ]
  },
  {
   "cell_type": "markdown",
   "metadata": {
    "id": "2CpMA6xoGoPH"
   },
   "source": [
    "Primero definimos dos funciones genéricas. La primera servirá para copiar el cursor de una colección de MongoDB a una lista. La segunda aplicará una función dada a todos los elementos de todos los cluster Enron."
   ]
  },
  {
   "cell_type": "code",
   "execution_count": 2,
   "metadata": {
    "id": "l8-0QAouGnh_"
   },
   "outputs": [],
   "source": [
    "from credentials import *\n",
    "from mongodb_client import init_mongodb\n",
    "from output import printProgressBar\n",
    "\n",
    "def get_documents(col, filter, doc_to_tuple = lambda doc : doc):\n",
    "  num_docs = col.count_documents(filter)\n",
    "  cursor = col.find(filter)\n",
    "  print('Copying cursor...')\n",
    "  collection_data = []\n",
    "  i = 0\n",
    "  printProgressBar(i, num_docs, {}, prefix='Progress:', suffix='Complete', length=50, printEnd='')\n",
    "  for doc in cursor:\n",
    "    collection_data.append(doc_to_tuple(doc))\n",
    "    i += 1\n",
    "    if i%100==0:\n",
    "      printProgressBar(i, num_docs, {}, prefix='Progress:', suffix='Complete', length=50, printEnd='')\n",
    "  printProgressBar(i, num_docs, {}, prefix='Progress:', suffix='Complete', length=50)\n",
    "  print('Cursor copied')\n",
    "  return collection_data\n",
    "\n",
    "def map_enron(filter, doc_to_tuple, params, map_func):\n",
    "  for cluster in ENRON:\n",
    "    print(f'\\nWorking with {cluster.split(\"@\")[1]}')\n",
    "    print('----------------------------------------------')\n",
    "    client, _, col = init_mongodb(cluster,)\n",
    "\n",
    "    collection_data = get_documents(col, filter, doc_to_tuple)\n",
    "    i = 0\n",
    "    num_collection = len(collection_data)\n",
    "    print('Starting process...')\n",
    "    printProgressBar(i, num_collection, {}, prefix='Progress:', suffix='Complete', length=50, printEnd='')\n",
    "    for doc in collection_data:\n",
    "      params = map_func(params, doc)\n",
    "      i += 1\n",
    "      if i%100==0:\n",
    "        printProgressBar(i, num_collection, {}, prefix='Progress:', suffix='Complete', length=50, printEnd='')\n",
    "    printProgressBar(i, num_collection, {}, prefix='Progress:', suffix='Complete', length=50)\n",
    "    client.close()\n",
    "  return params\n",
    "\n",
    "def map_inits(filter, doc_to_tuple, output_params, input_params, map_func, print_params = lambda p: p):\n",
    "  for cluster, aux_clust in [(INIT0, ENRON0), (INIT1, ENRON1), (INIT2, ENRON2)]:\n",
    "    print(f'\\nWorking with {cluster.split(\"@\")[1]}')\n",
    "    print('----------------------------------------------')\n",
    "    client, _, col = init_mongodb(cluster, init=True)\n",
    "    aux_client, _, aux_col = init_mongodb(aux_clust)\n",
    "\n",
    "    collection_data = get_documents(col, filter, doc_to_tuple)\n",
    "    i = 0\n",
    "    num_collection = len(collection_data)\n",
    "    print('Starting process...')\n",
    "    printProgressBar(i, num_collection, {}, prefix='Progress:', suffix='Complete', length=50, printEnd='')\n",
    "    for doc in collection_data:\n",
    "      output_params = map_func(output_params, doc, input_params, aux_col)\n",
    "      i += 1\n",
    "      if i%100==0:\n",
    "        printProgressBar(i, num_collection, print_params(output_params), prefix='Progress:', suffix='Complete', length=50, printEnd='')\n",
    "    printProgressBar(i, num_collection, {}, prefix='Progress:', suffix='Complete', length=50)\n",
    "    client.close()\n",
    "    aux_client.close()\n",
    "  return output_params"
   ]
  },
  {
   "cell_type": "markdown",
   "metadata": {
    "id": "XkmQC14zIgcx"
   },
   "source": [
    "A continuación recorremos todos los mensajes para obtener la distribución del número de palabras, del número de InIts y el primero en función del segundo."
   ]
  },
  {
   "cell_type": "code",
   "execution_count": null,
   "metadata": {
    "colab": {
     "base_uri": "https://localhost:8080/"
    },
    "id": "RQN1H9csrJbJ",
    "outputId": "a4e0c909-b044-469e-ff9a-85d5b660e754"
   },
   "outputs": [
    {
     "name": "stdout",
     "output_type": "stream",
     "text": [
      "\n",
      "Working with enron0.oaiur.mongodb.net/EnronDB\n",
      "----------------------------------------------\n",
      "Copying cursor...\n",
      "Progress: |██████████████████████████████████████████████████| 100.00% Complete (191194/191194)\n",
      "Cursor copied\n",
      "Starting process...\n",
      "Progress: |██████████████████████████████████████████████████| 100.00% Complete (191194/191194)\n",
      "\n",
      "Working with enron1.mymux.mongodb.net/EnronDB\n",
      "----------------------------------------------\n",
      "Copying cursor...\n",
      "Progress: |██████████████████████████████████████████████████| 100.00% Complete (104771/104771)\n",
      "Cursor copied\n",
      "Starting process...\n",
      "Progress: |██████████████████████████████████████████████████| 100.00% Complete (104771/104771)\n",
      "\n",
      "Working with enron2.2gdr4.mongodb.net/EnronDB\n",
      "----------------------------------------------\n",
      "Copying cursor...\n",
      "Progress: |██████████████████████████████████████████████████| 100.00% Complete (63567/63567)\n",
      "Cursor copied\n",
      "Starting process...\n",
      "Progress: |██████████████████████████████████████████████████| 100.00% Complete (63567/63567)\n"
     ]
    }
   ],
   "source": [
    "def get_words_and_inits_distribution(params, doc):\n",
    "  num_words = params[0]\n",
    "  num_inits = params[1]\n",
    "  dist_words_inits = params[2]\n",
    "\n",
    "  words = doc[0]\n",
    "  inits = doc[1]\n",
    "  if words not in num_words:\n",
    "    num_words[words] = 0\n",
    "  if inits not in num_inits:\n",
    "    num_inits[inits] = 0\n",
    "    dist_words_inits[inits] = {}\n",
    "  if words not in dist_words_inits[inits]:\n",
    "    dist_words_inits[inits][words] = 0\n",
    "  \n",
    "  num_words[words] += 1\n",
    "  num_inits[inits] += 1\n",
    "  dist_words_inits[inits][words] += 1\n",
    "  return num_words, num_inits, dist_words_inits\n",
    "\n",
    "num_words, num_inits, dist_words_inits = map_enron({}, lambda doc : (doc['Number_of_Words'], doc['Number_of_Inits']),\n",
    "                                                   ({}, {}, {}), get_words_and_inits_distribution)"
   ]
  },
  {
   "cell_type": "code",
   "execution_count": null,
   "metadata": {
    "colab": {
     "base_uri": "https://localhost:8080/",
     "height": 371
    },
    "id": "crgKbExktdy8",
    "outputId": "5206c0f0-e1f3-4b09-b391-9a9dfe5a7697"
   },
   "outputs": [
    {
     "name": "stderr",
     "output_type": "stream",
     "text": [
      "/usr/local/lib/python3.7/dist-packages/seaborn/_decorators.py:43: FutureWarning: Pass the following variables as keyword args: x, y. From version 0.12, the only valid positional argument will be `data`, and passing other arguments without an explicit keyword will result in an error or misinterpretation.\n",
      "  FutureWarning\n"
     ]
    },
    {
     "data": {
      "text/plain": [
       "Text(0, 0.5, 'Número de mensajes')"
      ]
     },
     "execution_count": 4,
     "metadata": {},
     "output_type": "execute_result"
    },
    {
     "data": {
      "image/png": "[encoded data removed]",
      "text/plain": [
       "<Figure size 432x288 with 1 Axes>"
      ]
     },
     "metadata": {
      "needs_background": "light"
     },
     "output_type": "display_data"
    }
   ],
   "source": [
    "import seaborn as sns\n",
    "import matplotlib.pyplot as plt\n",
    "\n",
    "sns.scatterplot(num_words.keys(), num_words.values())\n",
    "plt.title('Distribución por nº de palabras')\n",
    "# Set x-axis label\n",
    "plt.xlabel('Número de palabras')\n",
    "# Set y-axis label\n",
    "plt.ylabel('Número de mensajes')"
   ]
  },
  {
   "cell_type": "code",
   "execution_count": null,
   "metadata": {
    "colab": {
     "base_uri": "https://localhost:8080/",
     "height": 480
    },
    "id": "KA5T1h7TKlgl",
    "outputId": "11961115-17b6-4a38-9d04-8cc7dd19d7a2"
   },
   "outputs": [
    {
     "name": "stderr",
     "output_type": "stream",
     "text": [
      "/usr/local/lib/python3.7/dist-packages/seaborn/_decorators.py:43: FutureWarning: Pass the following variables as keyword args: x, y. From version 0.12, the only valid positional argument will be `data`, and passing other arguments without an explicit keyword will result in an error or misinterpretation.\n",
      "  FutureWarning\n"
     ]
    },
    {
     "data": {
      "text/plain": [
       "Text(0, 0.5, 'Número de mensajes')"
      ]
     },
     "execution_count": 5,
     "metadata": {},
     "output_type": "execute_result"
    },
    {
     "data": {
      "image/png": "[encoded data removed]",
      "text/plain": [
       "<Figure size 1800x432 with 1 Axes>"
      ]
     },
     "metadata": {
      "needs_background": "light"
     },
     "output_type": "display_data"
    }
   ],
   "source": [
    "mini_msg = {k: v for k, v in num_words.items() if k <= 500}\n",
    "fig, ax = plt.subplots(figsize=(25, 6))\n",
    "sns.scatterplot(mini_msg.keys(), mini_msg.values(), ax = ax)\n",
    "plt.title('Distribución por nº de palabras')\n",
    "# Set x-axis label\n",
    "plt.xlabel('Número de palabras')\n",
    "# Set y-axis label\n",
    "plt.ylabel('Número de mensajes')"
   ]
  },
  {
   "cell_type": "code",
   "execution_count": null,
   "metadata": {
    "colab": {
     "base_uri": "https://localhost:8080/",
     "height": 370
    },
    "id": "zQybkWj4K4Bb",
    "outputId": "d95e7158-9799-4d3f-bc6a-1f722de59713"
   },
   "outputs": [
    {
     "name": "stderr",
     "output_type": "stream",
     "text": [
      "/usr/local/lib/python3.7/dist-packages/seaborn/_decorators.py:43: FutureWarning: Pass the following variables as keyword args: x, y. From version 0.12, the only valid positional argument will be `data`, and passing other arguments without an explicit keyword will result in an error or misinterpretation.\n",
      "  FutureWarning\n"
     ]
    },
    {
     "data": {
      "text/plain": [
       "Text(0, 0.5, 'Número de mensajes')"
      ]
     },
     "execution_count": 6,
     "metadata": {},
     "output_type": "execute_result"
    },
    {
     "data": {
      "image/png": "[encoded data removed]",
      "text/plain": [
       "<Figure size 432x288 with 1 Axes>"
      ]
     },
     "metadata": {
      "needs_background": "light"
     },
     "output_type": "display_data"
    }
   ],
   "source": [
    "sns.scatterplot(num_inits.keys(), num_inits.values())\n",
    "plt.title('Distribución por nº de InIt')\n",
    "# Set x-axis label\n",
    "plt.xlabel('Número de InIt')\n",
    "# Set y-axis label\n",
    "plt.ylabel('Número de mensajes')"
   ]
  },
  {
   "cell_type": "code",
   "execution_count": null,
   "metadata": {
    "colab": {
     "base_uri": "https://localhost:8080/",
     "height": 479
    },
    "id": "i7I5XNzBV12s",
    "outputId": "bd1c147c-3c8e-4857-d4ad-b76931d6552f"
   },
   "outputs": [
    {
     "name": "stderr",
     "output_type": "stream",
     "text": [
      "/usr/local/lib/python3.7/dist-packages/seaborn/_decorators.py:43: FutureWarning: Pass the following variables as keyword args: x, y. From version 0.12, the only valid positional argument will be `data`, and passing other arguments without an explicit keyword will result in an error or misinterpretation.\n",
      "  FutureWarning\n"
     ]
    },
    {
     "data": {
      "text/plain": [
       "Text(0, 0.5, 'Número de mensajes')"
      ]
     },
     "execution_count": 7,
     "metadata": {},
     "output_type": "execute_result"
    },
    {
     "data": {
      "image/png": "[encoded data removed]",
      "text/plain": [
       "<Figure size 1080x432 with 1 Axes>"
      ]
     },
     "metadata": {
      "needs_background": "light"
     },
     "output_type": "display_data"
    }
   ],
   "source": [
    "mini_inits = {k: v for k, v in num_inits.items() if k <= 100}\n",
    "fig, ax = plt.subplots(figsize=(15, 6))\n",
    "sns.scatterplot(mini_inits.keys(), mini_inits.values(), ax = ax)\n",
    "plt.title('Distribución por nº de InIt')\n",
    "# Set x-axis label\n",
    "plt.xlabel('Número de InIt')\n",
    "# Set y-axis label\n",
    "plt.ylabel('Número de mensajes')"
   ]
  },
  {
   "cell_type": "code",
   "execution_count": null,
   "metadata": {
    "colab": {
     "base_uri": "https://localhost:8080/",
     "height": 479
    },
    "id": "uIEzDWXUXv_l",
    "outputId": "68acf7c0-6f2b-430a-fca0-3478dad41eb1"
   },
   "outputs": [
    {
     "name": "stderr",
     "output_type": "stream",
     "text": [
      "/usr/local/lib/python3.7/dist-packages/seaborn/_decorators.py:43: FutureWarning: Pass the following variables as keyword args: x, y. From version 0.12, the only valid positional argument will be `data`, and passing other arguments without an explicit keyword will result in an error or misinterpretation.\n",
      "  FutureWarning\n"
     ]
    },
    {
     "data": {
      "text/plain": [
       "Text(0, 0.5, 'Porcentage de mensajes acumulado')"
      ]
     },
     "execution_count": 8,
     "metadata": {},
     "output_type": "execute_result"
    },
    {
     "data": {
      "image/png": "[encoded data removed]",
      "text/plain": [
       "<Figure size 1440x432 with 1 Axes>"
      ]
     },
     "metadata": {
      "needs_background": "light"
     },
     "output_type": "display_data"
    }
   ],
   "source": [
    "total_messages = sum([v for _, v in num_inits.items()])\n",
    "percentage_inits = {}\n",
    "acum_inits = {}\n",
    "acum = 0\n",
    "for k, v in sorted(num_inits.items()):\n",
    "  acum += v\n",
    "  percentage_inits[k] = acum/total_messages\n",
    "  acum_inits[k] = acum\n",
    "\n",
    "fig, ax = plt.subplots(figsize=(20, 6))\n",
    "sns.lineplot(percentage_inits.keys(), percentage_inits.values(), ax = ax, marker='o')\n",
    "plt.title('Distribución acumulada de nº de InIt')\n",
    "# Set x-axis label\n",
    "plt.xlabel('Número de InIt')\n",
    "# Set y-axis label\n",
    "plt.ylabel('Porcentage de mensajes acumulado')"
   ]
  },
  {
   "cell_type": "code",
   "execution_count": null,
   "metadata": {
    "colab": {
     "base_uri": "https://localhost:8080/",
     "height": 479
    },
    "id": "x5XSaYP0lZRc",
    "outputId": "5d22b2ab-c514-445b-a93a-0887220c3c9d"
   },
   "outputs": [
    {
     "name": "stderr",
     "output_type": "stream",
     "text": [
      "/usr/local/lib/python3.7/dist-packages/seaborn/_decorators.py:43: FutureWarning: Pass the following variables as keyword args: x, y. From version 0.12, the only valid positional argument will be `data`, and passing other arguments without an explicit keyword will result in an error or misinterpretation.\n",
      "  FutureWarning\n"
     ]
    },
    {
     "data": {
      "text/plain": [
       "Text(0, 0.5, 'Porcentage de mensajes acumulado')"
      ]
     },
     "execution_count": 9,
     "metadata": {},
     "output_type": "execute_result"
    },
    {
     "data": {
      "image/png": "[encoded data removed]",
      "text/plain": [
       "<Figure size 864x432 with 1 Axes>"
      ]
     },
     "metadata": {
      "needs_background": "light"
     },
     "output_type": "display_data"
    }
   ],
   "source": [
    "mini_porc = {k: v for k, v in percentage_inits.items() if k <= 100}\n",
    "fig, ax = plt.subplots(figsize=(12, 6))\n",
    "sns.lineplot(mini_porc.keys(), mini_porc.values(), ax = ax, marker = 'o')\n",
    "plt.title('Distribución acumulada de nº de InIt')\n",
    "# Set x-axis label\n",
    "plt.xlabel('Número de InIt')\n",
    "# Set y-axis label\n",
    "plt.ylabel('Porcentage de mensajes acumulado')"
   ]
  },
  {
   "cell_type": "code",
   "execution_count": null,
   "metadata": {
    "colab": {
     "base_uri": "https://localhost:8080/",
     "height": 479
    },
    "id": "qYSHnGa8mn6g",
    "outputId": "0c634a4b-7f19-42b1-bff0-53c3dfbfa1b0"
   },
   "outputs": [
    {
     "name": "stderr",
     "output_type": "stream",
     "text": [
      "/usr/local/lib/python3.7/dist-packages/seaborn/_decorators.py:43: FutureWarning: Pass the following variables as keyword args: x, y. From version 0.12, the only valid positional argument will be `data`, and passing other arguments without an explicit keyword will result in an error or misinterpretation.\n",
      "  FutureWarning\n"
     ]
    },
    {
     "data": {
      "text/plain": [
       "Text(0, 0.5, 'Número de mensajes acumulado')"
      ]
     },
     "execution_count": 10,
     "metadata": {},
     "output_type": "execute_result"
    },
    {
     "data": {
      "image/png": "[encoded data removed]",
      "text/plain": [
       "<Figure size 864x432 with 1 Axes>"
      ]
     },
     "metadata": {
      "needs_background": "light"
     },
     "output_type": "display_data"
    }
   ],
   "source": [
    "mini_acum = {k: v for k, v in acum_inits.items() if k <= 100}\n",
    "fig, ax = plt.subplots(figsize=(12, 6))\n",
    "sns.lineplot(mini_acum.keys(), mini_acum.values(), ax = ax, marker='o')\n",
    "plt.title('Distribución acumulada de nº de InIt')\n",
    "# Set x-axis label\n",
    "plt.xlabel('Número de InIt')\n",
    "# Set y-axis label\n",
    "plt.ylabel('Número de mensajes acumulado')"
   ]
  },
  {
   "cell_type": "code",
   "execution_count": null,
   "metadata": {
    "colab": {
     "base_uri": "https://localhost:8080/",
     "height": 340
    },
    "id": "HSOGPnjlhhmu",
    "outputId": "46529922-aba1-4031-c88a-4dc7dce68de7"
   },
   "outputs": [
    {
     "name": "stderr",
     "output_type": "stream",
     "text": [
      "/usr/local/lib/python3.7/dist-packages/seaborn/_decorators.py:43: FutureWarning: Pass the following variables as keyword args: x, y. From version 0.12, the only valid positional argument will be `data`, and passing other arguments without an explicit keyword will result in an error or misinterpretation.\n",
      "  FutureWarning\n"
     ]
    },
    {
     "data": {
      "text/plain": [
       "<matplotlib.axes._subplots.AxesSubplot at 0x7fee689de490>"
      ]
     },
     "execution_count": 11,
     "metadata": {},
     "output_type": "execute_result"
    },
    {
     "data": {
      "image/png": "[encoded data removed]",
      "text/plain": [
       "<Figure size 432x288 with 1 Axes>"
      ]
     },
     "metadata": {
      "needs_background": "light"
     },
     "output_type": "display_data"
    }
   ],
   "source": [
    "x_inits = []\n",
    "y_words = []\n",
    "for init, d in dist_words_inits.items():\n",
    "  if init < 7:\n",
    "    for word, freq in d.items():\n",
    "      for i in range(freq):\n",
    "        x_inits.append(init)\n",
    "        y_words.append(word)\n",
    "\n",
    "sns.violinplot(x_inits, y_words)"
   ]
  },
  {
   "cell_type": "code",
   "execution_count": null,
   "metadata": {
    "colab": {
     "base_uri": "https://localhost:8080/",
     "height": 370
    },
    "id": "n62B-Vbhl6G_",
    "outputId": "a507b57b-9ee7-4f98-e108-c1889da3c851"
   },
   "outputs": [
    {
     "name": "stderr",
     "output_type": "stream",
     "text": [
      "/usr/local/lib/python3.7/dist-packages/seaborn/_decorators.py:43: FutureWarning: Pass the following variables as keyword args: x, y. From version 0.12, the only valid positional argument will be `data`, and passing other arguments without an explicit keyword will result in an error or misinterpretation.\n",
      "  FutureWarning\n"
     ]
    },
    {
     "data": {
      "text/plain": [
       "Text(0, 0.5, 'Número de palabras')"
      ]
     },
     "execution_count": 12,
     "metadata": {},
     "output_type": "execute_result"
    },
    {
     "data": {
      "image/png": "[encoded data removed]",
      "text/plain": [
       "<Figure size 432x288 with 1 Axes>"
      ]
     },
     "metadata": {
      "needs_background": "light"
     },
     "output_type": "display_data"
    }
   ],
   "source": [
    "sns.boxplot(x_inits, y_words, showfliers = False)\n",
    "plt.title('Distribución de nº de palabras por nº de InIt')\n",
    "# Set x-axis label\n",
    "plt.xlabel('Número de InIt')\n",
    "# Set y-axis label\n",
    "plt.ylabel('Número de palabras')"
   ]
  },
  {
   "cell_type": "code",
   "execution_count": null,
   "metadata": {
    "colab": {
     "base_uri": "https://localhost:8080/",
     "height": 370
    },
    "id": "t1OswDIGm-kG",
    "outputId": "2e00f76b-92a9-4cdc-d568-708cf3316bd7"
   },
   "outputs": [
    {
     "name": "stderr",
     "output_type": "stream",
     "text": [
      "/usr/local/lib/python3.7/dist-packages/seaborn/_decorators.py:43: FutureWarning: Pass the following variables as keyword args: x, y. From version 0.12, the only valid positional argument will be `data`, and passing other arguments without an explicit keyword will result in an error or misinterpretation.\n",
      "  FutureWarning\n"
     ]
    },
    {
     "data": {
      "text/plain": [
       "Text(0, 0.5, 'Número de palabras')"
      ]
     },
     "execution_count": 13,
     "metadata": {},
     "output_type": "execute_result"
    },
    {
     "data": {
      "image/png": "[encoded data removed]",
      "text/plain": [
       "<Figure size 432x288 with 1 Axes>"
      ]
     },
     "metadata": {
      "needs_background": "light"
     },
     "output_type": "display_data"
    }
   ],
   "source": [
    "v_plot = sns.violinplot(x_inits, y_words)\n",
    "v_plot.set(ylim=(0, 300))\n",
    "plt.title('Distribución de nº de palabras por nº de InIt')\n",
    "# Set x-axis label\n",
    "plt.xlabel('Número de InIt')\n",
    "# Set y-axis label\n",
    "plt.ylabel('Número de palabras')"
   ]
  },
  {
   "cell_type": "code",
   "execution_count": 3,
   "metadata": {
    "id": "JLirMQebSB7B"
   },
   "outputs": [],
   "source": [
    "def init_exceeds_any_maximum(output_params, input_params, msg_id, s, v, o):\n",
    "  return (msg_id not in input_params['removed_messages'] and (\n",
    "      s > output_params['num_subject'] or v > output_params['num_verb'] \n",
    "      or o > output_params['num_object']))\n",
    "  \n",
    "def msg_belongs_sample(msg_inits, msg_words, max_inits, max_words):\n",
    "  return msg_inits <= max_inits and msg_words <= max_words[msg_inits - 1]\n",
    "\n",
    "def get_inits_length(output_params, doc, input_params, aux_col):\n",
    "  aux_s = len(doc[1].split('¿'))\n",
    "  aux_v = len(doc[2].split('¿'))\n",
    "  aux_o = len(doc[3].split('¿'))\n",
    "  msg_id = doc[0]\n",
    "  removed_messages = input_params['removed_messages']\n",
    "  max_words = input_params['max_words']\n",
    "  max_inits = input_params['max_inits']\n",
    "\n",
    "  if init_exceeds_any_maximum(output_params, input_params, msg_id, aux_s, aux_v, aux_o):\n",
    "    cursor = aux_col.find({\"Message-ID\": msg_id})\n",
    "    if max_words is not None:\n",
    "      msgs = [(d['Number_of_Inits'], d['Number_of_Words']) for d in cursor]\n",
    "    else:\n",
    "      msgs = [d['Number_of_Inits'] for d in cursor]\n",
    "    if len(msgs) > 1:\n",
    "      output_params['duplicated_id'] = True\n",
    "    elif len(msgs) == 0:\n",
    "      output_params['unfind_message'].append(msg_id)\n",
    "    elif ((max_words is None and msgs[0] <= max_inits) or\n",
    "        (max_words is not None and msg_belongs_sample(msgs[0][0], msgs[0][1], max_inits, max_words))):\n",
    "      if aux_s > output_params['num_subject']:\n",
    "        output_params['num_subject'] = aux_s\n",
    "        output_params['id_sub'] = msg_id\n",
    "      if aux_v > output_params['num_verb']:\n",
    "        output_params['num_verb'] = aux_v\n",
    "        output_params['id_verb'] = msg_id\n",
    "      if aux_o > output_params['num_object']:\n",
    "        output_params['num_object'] = aux_o\n",
    "        output_params['id_obj'] = msg_id\n",
    "  return output_params\n",
    "\n",
    "def call_get_inits_length(filter = {}, max_num_inits = 6, max_num_words = None, removed_messages = set()):\n",
    "  output_params = {'duplicated_id': False, 'unfind_message': [], 'num_subject' : 0, 'num_verb': 0, 'num_object': 0}\n",
    "\n",
    "  output_params = map_inits(filter, lambda doc: (doc['Message-ID'], doc['Subject'], doc['Verb'], doc['Object']),\n",
    "                            output_params, {'removed_messages': removed_messages, 'max_inits': max_num_inits,\n",
    "                                            'max_words': max_num_words},\n",
    "                            get_inits_length, lambda p: {'s':p['num_subject'], 'v':p['num_verb'], 'o':p['num_object'], \n",
    "                                                        'd':p['duplicated_id'], 'u': len(p['unfind_message'])})\n",
    "  if output_params['duplicated_id']:\n",
    "    print('ERROR: There is more than one message with the same ID.')\n",
    "  elif len(output_params['unfind_message']) > 0:\n",
    "    print(f\"These msg_id were not found: {output_params['unfind_message']}\")\n",
    "  else:\n",
    "    print('Correct: The message ID is an unique identifier.')\n",
    "  return (output_params['num_subject'], output_params['id_sub'], output_params['num_verb'],\n",
    "        output_params['id_verb'], output_params['num_object'], output_params['id_obj'])"
   ]
  },
  {
   "cell_type": "code",
   "execution_count": null,
   "metadata": {
    "colab": {
     "base_uri": "https://localhost:8080/"
    },
    "id": "KLlhrhIBiazd",
    "outputId": "def9093f-9ce4-45f3-dd17-045ba0dc950f"
   },
   "outputs": [
    {
     "name": "stdout",
     "output_type": "stream",
     "text": [
      "\n",
      "Working with init0.k77xt.mongodb.net/EnronDB\n",
      "----------------------------------------------\n",
      "Copying cursor...\n",
      "Progress: |██████████████████████████████████████████████████| 100.00% Complete (1971033/1971033)\n",
      "Cursor copied\n",
      "Starting process...\n",
      "Progress: |██████████████████████████████████████████████████| 100.00% Complete (1971033/1971033)\n",
      "\n",
      "Working with init.mbcg7.mongodb.net/EnronDB\n",
      "----------------------------------------------\n",
      "Copying cursor...\n",
      "Progress: |██████████████████████████████████████████████████| 100.00% Complete (695496/695496)\n",
      "Cursor copied\n",
      "Starting process...\n",
      "Progress: |██████████████████████████████████████████████████| 100.00% Complete (695496/695496)\n",
      "\n",
      "Working with init2.xw3zm.mongodb.net/EnronDB\n",
      "----------------------------------------------\n",
      "Copying cursor...\n",
      "Progress: |██████████████████████████████████████████████████| 100.00% Complete (740570/740570)\n",
      "Cursor copied\n",
      "Starting process...\n",
      "Progress: |██████████████████████████████████████████████████| 100.00% Complete (740570/740570)\n",
      "Correct: The message ID is an unique identifier.\n",
      "The maximum number of subjects is 81 (<13628103.1075854036066.JavaMail.evans@thyme>)\n",
      "The maximum number of verbs is 5 (<16648484.1075858578307.JavaMail.evans@thyme>)\n",
      "The maximum number of objects is 183 (<59055.1075858877966.JavaMail.evans@thyme>)\n"
     ]
    }
   ],
   "source": [
    "num_subject, id_sub, num_verb, id_verb, num_object, id_obj = call_get_inits_length()\n",
    "print(f'The maximum number of subjects is {num_subject} ({id_sub})')\n",
    "print(f'The maximum number of verbs is {num_verb} ({id_verb})')\n",
    "print(f'The maximum number of objects is {num_object} ({id_obj})')"
   ]
  },
  {
   "cell_type": "code",
   "execution_count": null,
   "metadata": {
    "id": "p9KfasyAs5dq"
   },
   "outputs": [],
   "source": [
    "def print_message_and_inits(msg_id):\n",
    "  found = False\n",
    "  i = 0\n",
    "  while not(found):\n",
    "    cluster, aux_clust = [(INIT0, ENRON0), (INIT1, ENRON1)][i]\n",
    "    client, _, col = init_mongodb(cluster, init=True)\n",
    "    aux_client, _, aux_col = init_mongodb(aux_clust)\n",
    "    \n",
    "    cursor = aux_col.find({\"Message-ID\": msg_id})\n",
    "    msgs = [doc for doc in cursor]\n",
    "    if len(msgs) > 0:\n",
    "      found = True\n",
    "      print(\"Message:\")\n",
    "      for m in msgs:\n",
    "        print(m['Body'])\n",
    "      cursor = col.find({\"Message-ID\": msg_id})\n",
    "      inits = [doc for doc in cursor]\n",
    "      print(\"\\nInits:\")\n",
    "      for ini in inits:\n",
    "        print(ini)\n",
    "    else:\n",
    "      i += 1"
   ]
  },
  {
   "cell_type": "code",
   "execution_count": null,
   "metadata": {
    "colab": {
     "base_uri": "https://localhost:8080/"
    },
    "id": "k1Z6Z6N5m_Vb",
    "outputId": "2d39139d-8844-408b-8406-72711f9c5c4f"
   },
   "outputs": [
    {
     "data": {
      "text/plain": [
       "0.6865341610760656"
      ]
     },
     "execution_count": 17,
     "metadata": {},
     "output_type": "execute_result"
    }
   ],
   "source": [
    "mini_porc[6]"
   ]
  },
  {
   "cell_type": "code",
   "execution_count": null,
   "metadata": {
    "colab": {
     "base_uri": "https://localhost:8080/"
    },
    "id": "N1BVE1z_nlQ3",
    "outputId": "fe8a32dd-039d-4042-9d44-4222a9f19c1a"
   },
   "outputs": [
    {
     "data": {
      "text/plain": [
       "246831"
      ]
     },
     "execution_count": 18,
     "metadata": {},
     "output_type": "execute_result"
    }
   ],
   "source": [
    "mini_acum[6]"
   ]
  },
  {
   "cell_type": "code",
   "execution_count": null,
   "metadata": {
    "colab": {
     "base_uri": "https://localhost:8080/"
    },
    "id": "QbpfrntUQ9k4",
    "outputId": "090e0ed0-7354-45c4-e094-55a894a76e53"
   },
   "outputs": [
    {
     "name": "stdout",
     "output_type": "stream",
     "text": [
      "Statistics of 1 inits:\n",
      "          Num_words\n",
      "count  79165.000000\n",
      "mean      43.476044\n",
      "std       54.154176\n",
      "min        2.000000\n",
      "25%       16.000000\n",
      "50%       29.000000\n",
      "75%       51.000000\n",
      "max     3105.000000\n",
      "\n",
      "Statistics of 2 inits:\n",
      "          Num_words\n",
      "count  54911.000000\n",
      "mean      70.420499\n",
      "std       82.426881\n",
      "min        6.000000\n",
      "25%       31.000000\n",
      "50%       50.000000\n",
      "75%       82.000000\n",
      "max     4054.000000\n",
      "\n",
      "Statistics of 3 inits:\n",
      "          Num_words\n",
      "count  40628.000000\n",
      "mean      95.953210\n",
      "std       97.893708\n",
      "min       10.000000\n",
      "25%       48.000000\n",
      "50%       73.000000\n",
      "75%      111.000000\n",
      "max     2647.000000\n",
      "\n",
      "Statistics of 4 inits:\n",
      "          Num_words\n",
      "count  30638.000000\n",
      "mean     118.896240\n",
      "std      106.174553\n",
      "min       14.000000\n",
      "25%       65.000000\n",
      "50%       94.000000\n",
      "75%      138.000000\n",
      "max     1587.000000\n",
      "\n",
      "Statistics of 5 inits:\n",
      "          Num_words\n",
      "count  22911.000000\n",
      "mean     138.771987\n",
      "std      100.210680\n",
      "min       18.000000\n",
      "25%       83.000000\n",
      "50%      117.000000\n",
      "75%      163.000000\n",
      "max     2921.000000\n",
      "\n",
      "Statistics of 6 inits:\n",
      "          Num_words\n",
      "count  18578.000000\n",
      "mean     176.153353\n",
      "std      163.814286\n",
      "min       29.000000\n",
      "25%      101.000000\n",
      "50%      142.000000\n",
      "75%      195.000000\n",
      "max     5218.000000\n",
      "\n"
     ]
    }
   ],
   "source": [
    "import pandas as pd\n",
    "\n",
    "def dict_freq_to_list(d):\n",
    "  l = []\n",
    "  for k, v in d.items():\n",
    "    for i in range(v):\n",
    "      l.append(k)\n",
    "  return l\n",
    "\n",
    "for i in range(1, 7):\n",
    "  df = pd.DataFrame([{'Num_words': k} for k in dict_freq_to_list(dist_words_inits[i])])\n",
    "  print(f'Statistics of {i} inits:')\n",
    "  print(df.describe())\n",
    "  print()"
   ]
  },
  {
   "cell_type": "code",
   "execution_count": null,
   "metadata": {
    "colab": {
     "base_uri": "https://localhost:8080/"
    },
    "id": "Js3ICAYcVA2D",
    "outputId": "5407c672-0f70-48e0-cdaa-bbfac20a8af3"
   },
   "outputs": [
    {
     "name": "stdout",
     "output_type": "stream",
     "text": [
      "[(0, 103.5), (0, 158.5), (0, 205.5), (0, 247.5), (0, 283.0), (0, 336.0)]\n"
     ]
    }
   ],
   "source": [
    "import numpy as np\n",
    "def get_outliers_limit(words_freq):\n",
    "  l = dict_freq_to_list(words_freq)\n",
    "  q1 = np.quantile(l, 0.25)\n",
    "  q3 = np.quantile(l, 0.75)\n",
    "  return(max(q1 - 1.5*(q3 - q1), 0), q3 + 1.5*(q3 - q1))\n",
    "\n",
    "out_limits = []\n",
    "for i in range(1,7):\n",
    "  out_limits.append(get_outliers_limit(dist_words_inits[i]))\n",
    "print(out_limits)"
   ]
  },
  {
   "cell_type": "code",
   "execution_count": null,
   "metadata": {
    "colab": {
     "base_uri": "https://localhost:8080/"
    },
    "id": "qymxbBS5TNXn",
    "outputId": "e90c53fc-34b5-4dce-ef09-7b8e0f7d0d2f"
   },
   "outputs": [
    {
     "name": "stdout",
     "output_type": "stream",
     "text": [
      "\n",
      "Working with init0.k77xt.mongodb.net/EnronDB\n",
      "----------------------------------------------\n",
      "Copying cursor...\n",
      "Progress: |██████████████████████████████████████████████████| 100.00% Complete (1971033/1971033)\n",
      "Cursor copied\n",
      "Starting process...\n",
      "Progress: |██████████████████████████████████████████████████| 100.00% Complete (1971033/1971033)\n",
      "\n",
      "Working with init.mbcg7.mongodb.net/EnronDB\n",
      "----------------------------------------------\n",
      "Copying cursor...\n",
      "Progress: |██████████████████████████████████████████████████| 100.00% Complete (695496/695496)\n",
      "Cursor copied\n",
      "Starting process...\n",
      "Progress: |██████████████████████████████████████████████████| 100.00% Complete (695496/695496)\n",
      "\n",
      "Working with init2.xw3zm.mongodb.net/EnronDB\n",
      "----------------------------------------------\n",
      "Copying cursor...\n",
      "Progress: |██████████████████████████████████████████████████| 100.00% Complete (740570/740570)\n",
      "Cursor copied\n",
      "Starting process...\n",
      "Progress: |██████████████████████████████████████████████████| 100.00% Complete (740570/740570)\n",
      "Correct: The message ID is an unique identifier.\n",
      "The maximum number of subjects is 81 (<13628103.1075854036066.JavaMail.evans@thyme>)\n",
      "The maximum number of verbs is 5 (<16648484.1075858578307.JavaMail.evans@thyme>)\n",
      "The maximum number of objects is 92 (<30229870.1075854441633.JavaMail.evans@thyme>)\n"
     ]
    }
   ],
   "source": [
    "num_subject, id_sub, num_verb, id_verb, num_object, id_obj = call_get_inits_length(max_num_words=[e[1] for e in out_limits])\n",
    "print(f'The maximum number of subjects is {num_subject} ({id_sub})')\n",
    "print(f'The maximum number of verbs is {num_verb} ({id_verb})')\n",
    "print(f'The maximum number of objects is {num_object} ({id_obj})')"
   ]
  },
  {
   "cell_type": "code",
   "execution_count": null,
   "metadata": {
    "colab": {
     "base_uri": "https://localhost:8080/",
     "height": 358
    },
    "id": "q-hk2-02bUcv",
    "outputId": "e8902fa6-fa9a-4be7-fd2a-f322aaff1d2e"
   },
   "outputs": [
    {
     "name": "stdout",
     "output_type": "stream",
     "text": [
      "There are 231288 in our sample.\n"
     ]
    },
    {
     "name": "stderr",
     "output_type": "stream",
     "text": [
      "/usr/local/lib/python3.7/dist-packages/seaborn/_decorators.py:43: FutureWarning: Pass the following variables as keyword args: x, y. From version 0.12, the only valid positional argument will be `data`, and passing other arguments without an explicit keyword will result in an error or misinterpretation.\n",
      "  FutureWarning\n"
     ]
    },
    {
     "data": {
      "text/plain": [
       "<matplotlib.axes._subplots.AxesSubplot at 0x7fee148c4a10>"
      ]
     },
     "execution_count": 22,
     "metadata": {},
     "output_type": "execute_result"
    },
    {
     "data": {
      "image/png": "[encoded data removed]",
      "text/plain": [
       "<Figure size 432x288 with 1 Axes>"
      ]
     },
     "metadata": {
      "needs_background": "light"
     },
     "output_type": "display_data"
    }
   ],
   "source": [
    "x_inits = []\n",
    "y_words = []\n",
    "num_msgs = 0\n",
    "for init, d in dist_words_inits.items():\n",
    "  if init < 7:\n",
    "    for word, freq in d.items():\n",
    "      if word <= out_limits[init - 1][1]:\n",
    "        for i in range(freq):\n",
    "          x_inits.append(init)\n",
    "          y_words.append(word)\n",
    "          num_msgs += 1\n",
    "\n",
    "print(f'There are {num_msgs} in our sample.')\n",
    "sns.violinplot(x_inits, y_words)"
   ]
  },
  {
   "cell_type": "code",
   "execution_count": null,
   "metadata": {
    "colab": {
     "base_uri": "https://localhost:8080/"
    },
    "id": "O4rN4d1ZgeAF",
    "outputId": "33dd9bae-fb14-4a9a-842f-aa244b5deb2f"
   },
   "outputs": [
    {
     "name": "stdout",
     "output_type": "stream",
     "text": [
      "Message:\n",
      "Starts 1/7/99 for 30 days (will eventually be termed up) Buy from Spinnaker at Galveston Island 250L at GD HSC-.08 plus tsp and dehy (.138) Transported on Blue Dolphin Pipeline (agency has been given to Enron per Mary Jean at BDPL) $.123 Transport (Contract BDPL-064-GTSA) $.015 Dehy fee (Contract MEI-056-DA) Sold to Dow at its Plant Inlet in Brazoria County at GD HSC-.07 Blue Dolphin does not require nominations. Whatever is produced is allocated to Dow. Currently, the volumes are about 208 MMBtu/d. Samedan operates the production field. (Janene Shipp 580-221-1200) Blue Dolphin Contacts Volumes - Ken Davenport 713-227-7660 x137 Transport - Mary Jean Krinke 713-227-7660 x155 Ami 3-9272\n",
      "\n",
      "Inits:\n",
      "{'_id': ObjectId('614de5d61b7d3c2371e09be2'), 'Message-ID': '<13628103.1075854036066.JavaMail.evans@thyme>', 'Subject': 'agency', 'Verb': 'Starts', 'Object': '1/7/99'}\n",
      "{'_id': ObjectId('614de5d61b7d3c2371e09be3'), 'Message-ID': '<13628103.1075854036066.JavaMail.evans@thyme>', 'Subject': 'Starts¿1/7/99¿for¿30¿days¿(¿will¿eventually¿be¿termed¿up¿)¿Buy¿from¿Spinnaker¿at¿Galveston¿Island¿250L¿at¿GD¿HSC-.08¿plus¿tsp¿and¿dehy¿(¿.138¿)¿Transported¿on¿Blue¿Dolphin¿Pipeline¿(¿agency¿has¿been¿given¿to¿Enron¿per¿Mary¿Jean¿at¿BDPL¿)¿$¿.123¿Transport¿(¿Contract¿BDPL-064¿-¿GTSA¿)¿$¿.015¿Dehy¿fee¿(¿Contract¿MEI-056¿-¿DA¿)¿Sold¿to¿Dow¿at¿its¿Plant¿Inlet¿in¿Brazoria¿County¿at¿GD¿HSC-.07¿Blue¿Dolphin', 'Verb': 'does¿not¿require', 'Object': 'nominations'}\n",
      "{'_id': ObjectId('614de5d61b7d3c2371e09be4'), 'Message-ID': '<13628103.1075854036066.JavaMail.evans@thyme>', 'Subject': 'agency', 'Verb': 'has¿been¿given', 'Object': 'Dehy¿fee'}\n",
      "{'_id': ObjectId('614de5d61b7d3c2371e09be5'), 'Message-ID': '<13628103.1075854036066.JavaMail.evans@thyme>', 'Subject': 'd.¿Samedan', 'Verb': 'operates', 'Object': 'production¿field'}\n"
     ]
    }
   ],
   "source": [
    "print_message_and_inits(id_sub)"
   ]
  },
  {
   "cell_type": "code",
   "execution_count": null,
   "metadata": {
    "colab": {
     "base_uri": "https://localhost:8080/"
    },
    "id": "AAEFzVd1giv2",
    "outputId": "37d0d169-2d9e-4c86-f887-6a04e94432d4"
   },
   "outputs": [
    {
     "name": "stdout",
     "output_type": "stream",
     "text": [
      "Message:\n",
      "Guys, as a follow up to our meeting today, I thought I would put together a list of deliverables agreed to in the meeting. The goal would be to have a definitive strategy for HPL and storage assets by the end of July that could be acted upon. a) Elimination of the Entex contract - current value - John L.; b) Storage value algorithm incorporating spread values, increasing intra-day and monthly volatility and blowdown values - Jean M, John L, Jim S.; c) Storage acquisition targets and issues surrounding value/execution - top 5 to 10 for blowdown and tarantula strategy - Jean M, Julie G.; d) Structure, value, cost and issues surrounding Bammel \"header\" - Jean M.; e) Project Torque - definitive balance sheet, income statement and contribution margin statement for HPL - Wes C.; f) Establish viability of selling HPL assets - small private placement - working with Lehman to finalize value, exection risk, timing, structure et al - Patrick W. I would like this group to get back together in the fourth week of July to determine a final action plan. Regards Delainey \n",
      "\n",
      "Inits:\n",
      "{'_id': ObjectId('614f485e583206fba0fccf90'), 'Message-ID': '<30229870.1075854441633.JavaMail.evans@thyme>', 'Subject': 'I', 'Verb': 'would¿put', 'Object': 'list'}\n",
      "{'_id': ObjectId('614f485e583206fba0fccf91'), 'Message-ID': '<30229870.1075854441633.JavaMail.evans@thyme>', 'Subject': 'goal', 'Verb': 'would¿be', 'Object': 'to¿have¿a¿definitive¿strategy¿for¿HPL¿and¿storage¿assets¿by¿the¿end¿of¿July'}\n",
      "{'_id': ObjectId('614f485e583206fba0fccf92'), 'Message-ID': '<30229870.1075854441633.JavaMail.evans@thyme>', 'Subject': 'Storage¿value', 'Verb': 'algorithm', 'Object': 'incorporating¿spread¿values¿,¿increasing¿intra¿-¿day¿and¿monthly¿volatility¿and¿blowdown¿values¿-¿Jean¿M¿,¿John¿L¿,¿Jim¿S.¿;¿c¿)¿Storage¿acquisition¿targets¿and¿issues¿surrounding¿value¿/¿execution¿-¿top¿5¿to¿10¿for¿blowdown¿and¿tarantula¿strategy¿-¿Jean¿M¿,¿Julie¿G.¿;¿d¿)¿Structure¿,¿value¿,¿cost¿and¿issues¿surrounding¿Bammel¿\"¿header¿\"¿-¿Jean¿M.¿;¿e¿)¿Project¿Torque¿-¿definitive¿balance¿sheet¿,¿income¿statement¿and¿contribution¿margin¿statement¿for¿HPL¿-¿Wes¿C.¿;¿f'}\n",
      "{'_id': ObjectId('614f485e583206fba0fccf93'), 'Message-ID': '<30229870.1075854441633.JavaMail.evans@thyme>', 'Subject': 'I', 'Verb': 'would¿like', 'Object': 'group'}\n"
     ]
    }
   ],
   "source": [
    "print_message_and_inits(id_obj)"
   ]
  },
  {
   "cell_type": "code",
   "execution_count": null,
   "metadata": {
    "colab": {
     "base_uri": "https://localhost:8080/"
    },
    "id": "-bT7NP2ugvtV",
    "outputId": "092986fd-0038-4691-a82c-d835658bd02a"
   },
   "outputs": [
    {
     "name": "stdout",
     "output_type": "stream",
     "text": [
      "\n",
      "Working with init0.k77xt.mongodb.net/EnronDB\n",
      "----------------------------------------------\n",
      "Copying cursor...\n",
      "Progress: |██████████████████████████████████████████████████| 100.00% Complete (1971033/1971033)\n",
      "Cursor copied\n",
      "Starting process...\n",
      "Progress: |██████████████████████████████████████████████████| 100.00% Complete (1971033/1971033)\n",
      "\n",
      "Working with init.mbcg7.mongodb.net/EnronDB\n",
      "----------------------------------------------\n",
      "Copying cursor...\n",
      "Progress: |██████████████████████████████████████████████████| 100.00% Complete (695496/695496)\n",
      "Cursor copied\n",
      "Starting process...\n",
      "Progress: |██████████████████████████████████████████████████| 100.00% Complete (695496/695496)\n",
      "\n",
      "Working with init2.xw3zm.mongodb.net/EnronDB\n",
      "----------------------------------------------\n",
      "Copying cursor...\n",
      "Progress: |██████████████████████████████████████████████████| 100.00% Complete (740570/740570)\n",
      "Cursor copied\n",
      "Starting process...\n",
      "Progress: |██████████████████████████████████████████████████| 100.00% Complete (740570/740570)\n",
      "Correct: The message ID is an unique identifier.\n",
      "The maximum number of subjects is 39 (<18682989.1075860331021.JavaMail.evans@thyme>)\n",
      "The maximum number of verbs is 5 (<16648484.1075858578307.JavaMail.evans@thyme>)\n",
      "The maximum number of objects is 91 (<23105914.1075846156153.JavaMail.evans@thyme>)\n"
     ]
    }
   ],
   "source": [
    "removed_messages = {'<13628103.1075854036066.JavaMail.evans@thyme>', '<7717017.1075854041870.JavaMail.evans@thyme>', '<10927207.1075854047255.JavaMail.evans@thyme>',\n",
    "                    '<30229870.1075854441633.JavaMail.evans@thyme>', '<15495868.1075861473989.JavaMail.evans@thyme>', '<18112782.1075854449243.JavaMail.evans@thyme>',\n",
    "                    '<12421080.1075851639178.JavaMail.evans@thyme>', '<1429151.1075840948969.JavaMail.evans@thyme>', '<26014676.1075854474765.JavaMail.evans@thyme>',\n",
    "                    '<29393146.1075854491245.JavaMail.evans@thyme>'}\n",
    "\n",
    "num_subject, id_sub, num_verb, id_verb, num_object, id_obj = call_get_inits_length(max_num_words=[e[1] for e in out_limits],\n",
    "                                                                              removed_messages  = removed_messages)\n",
    "print(f'The maximum number of subjects is {num_subject} ({id_sub})')\n",
    "print(f'The maximum number of verbs is {num_verb} ({id_verb})')\n",
    "print(f'The maximum number of objects is {num_object} ({id_obj})')"
   ]
  },
  {
   "cell_type": "code",
   "execution_count": null,
   "metadata": {
    "colab": {
     "base_uri": "https://localhost:8080/"
    },
    "id": "LanKrx7IiXEC",
    "outputId": "c0c821cc-825d-4a53-e738-7add9534e787"
   },
   "outputs": [
    {
     "name": "stdout",
     "output_type": "stream",
     "text": [
      "Message:\n",
      "eSource Presents Lexis-Nexis Training Basics Lexis-Nexis Basics is geared to the novice or prospective user. You will learn the basics of getting around Nexis.com. We will talk about news and company information available on Lexis-Nexis. Attend our Lexis-Nexis Basics Clinic: July 3 1:30 - 2:30 PM EB572 Legal and Regulatory Information for the Non-Legal User Explore the legal and regulatory sources on Lexis-Nexis as a business professional would use them. Content includes regulations, agency decisions, and legislative materials such as bill tracking. This is not a course for a primarily legal user, but for business professionals who need legal information. Attend our Lexis-Nexis Topical Clinic: July 3 3:00 - 4:00 PM EB572 Seats fill up fast! To reserve a seat, please call Stephanie E. Taylor at 5-7928 The Cost is $25.00 Per Person No Shows will be charged $50.00 * Please bring your Lexis-Nexis login ID and password. If you don't have one, a guest ID will be provided. Check the eSource training page at http://esource.enron.com/training.doc for additional training sessions and vendor presentations.\n",
      "\n",
      "Inits:\n",
      "{'_id': ObjectId('614e53801b7d3c2371e97744'), 'Message-ID': '<18682989.1075860331021.JavaMail.evans@thyme>', 'Subject': 'You', 'Verb': 'will¿learn', 'Object': 'basics'}\n",
      "{'_id': ObjectId('614e53801b7d3c2371e97745'), 'Message-ID': '<18682989.1075860331021.JavaMail.evans@thyme>', 'Subject': 'Attend¿our¿Lexis¿-¿Nexis¿Basics¿Clinic¿:¿July¿3¿1:30¿-¿2:30¿PM¿EB572¿Legal¿and¿Regulatory¿Information¿for¿the¿Non¿-¿Legal¿User¿Explore¿the¿legal¿and¿regulatory¿sources¿on¿Lexis¿-¿Nexis¿as¿a¿business¿professional', 'Verb': 'would¿use', 'Object': 'them'}\n",
      "{'_id': ObjectId('614e53801b7d3c2371e97746'), 'Message-ID': '<18682989.1075860331021.JavaMail.evans@thyme>', 'Subject': 'Content', 'Verb': 'includes', 'Object': 'regulations¿agency¿decisions¿materials'}\n",
      "{'_id': ObjectId('614e53801b7d3c2371e97747'), 'Message-ID': '<18682989.1075860331021.JavaMail.evans@thyme>', 'Subject': 'who', 'Verb': 'need', 'Object': 'information'}\n",
      "{'_id': ObjectId('614e53801b7d3c2371e97748'), 'Message-ID': '<18682989.1075860331021.JavaMail.evans@thyme>', 'Subject': 'you', 'Verb': \"do¿n't¿have\", 'Object': 'one'}\n"
     ]
    }
   ],
   "source": [
    "print_message_and_inits(id_sub)"
   ]
  },
  {
   "cell_type": "code",
   "execution_count": null,
   "metadata": {
    "colab": {
     "base_uri": "https://localhost:8080/"
    },
    "id": "02_Y9C3doprG",
    "outputId": "92f60a32-d1f1-4158-c4d9-751d056618fa"
   },
   "outputs": [
    {
     "name": "stdout",
     "output_type": "stream",
     "text": [
      "Message:\n",
      "On 6/2/00, Enron participated in EPSA's comments on FERC's Notice of Interim Procedures to Support Industry Reliability Efforts for the summer (attached). On 5/17/00, FERC issued streamlined market based rates filings for industrials with on-site generation to sell into the grid, decreased approval requirements for utility deals with customers to interrupt load, more FERC hotline staff, and better updates of ATC. In addition to FERC's proposals and requests for additional ideas, EPSA commented: Need robust competitive market to incentivize new generation Overall big requests--eliminate CBM, require independent ATC calculations, require independent Security Coordinators, and native load under same tariff Specific suggested fixes for this summer: (1) Require transmission providers to give written notice to FERC and post within 24 hours of using CBM the specific details of the \"emergency\" (2) Require random FERC OASIS audits of TLRs and ATC (3) Require retention of data confirming system conditions existing at the time of a TLR FERC has not acted on these comments yet. \n",
      "\n",
      "Inits:\n",
      "{'_id': ObjectId('614cad68aec3887e259826e6'), 'Message-ID': '<23105914.1075846156153.JavaMail.evans@thyme>', 'Subject': 'FERC', 'Verb': 'issued', 'Object': 'rates¿filings'}\n",
      "{'_id': ObjectId('614cad68aec3887e259826e7'), 'Message-ID': '<23105914.1075846156153.JavaMail.evans@thyme>', 'Subject': 'FERC', 'Verb': 'decreased', 'Object': 'approval¿requirements'}\n",
      "{'_id': ObjectId('614cad68aec3887e259826e8'), 'Message-ID': '<23105914.1075846156153.JavaMail.evans@thyme>', 'Subject': 'EPSA', 'Verb': 'commented', 'Object': 'Need¿robust¿competitive¿market¿to¿incentivize¿new¿generation¿Overall¿big¿requests¿--¿eliminate¿CBM¿,¿require¿independent¿ATC¿calculations¿,¿require¿independent¿Security¿Coordinators¿,¿and¿native¿load¿under¿same¿tariff¿Specific¿suggested¿fixes¿for¿this¿summer¿:¿(¿1¿)¿Require¿transmission¿providers¿to¿give¿written¿notice¿to¿FERC¿and¿post¿within¿24¿hours¿of¿using¿CBM¿the¿specific¿details¿of¿the¿\"¿emergency¿\"¿(¿2¿)¿Require¿retention¿of¿data¿confirming¿system¿conditions¿existing¿at¿the¿time¿of¿a¿TLR¿FERC¿has¿not¿acted¿on¿these¿comments¿yet'}\n"
     ]
    }
   ],
   "source": [
    "print_message_and_inits(id_obj)"
   ]
  },
  {
   "cell_type": "code",
   "execution_count": 4,
   "metadata": {
    "colab": {
     "base_uri": "https://localhost:8080/"
    },
    "id": "q6hJWNw6HeDi",
    "outputId": "684fdf81-6644-4e91-f5d6-7de6b918fd6f"
   },
   "outputs": [
    {
     "name": "stdout",
     "output_type": "stream",
     "text": [
      "Collecting tensorflow_text\n",
      "  Downloading tensorflow_text-2.6.0-cp37-cp37m-manylinux1_x86_64.whl (4.4 MB)\n",
      "\u001b[K     |████████████████████████████████| 4.4 MB 5.1 MB/s \n",
      "\u001b[?25hRequirement already satisfied: tensorflow-hub>=0.8.0 in /usr/local/lib/python3.7/dist-packages (from tensorflow_text) (0.12.0)\n",
      "Requirement already satisfied: tensorflow<2.7,>=2.6.0 in /usr/local/lib/python3.7/dist-packages (from tensorflow_text) (2.6.0)\n",
      "Requirement already satisfied: astunparse~=1.6.3 in /usr/local/lib/python3.7/dist-packages (from tensorflow<2.7,>=2.6.0->tensorflow_text) (1.6.3)\n",
      "Requirement already satisfied: gast==0.4.0 in /usr/local/lib/python3.7/dist-packages (from tensorflow<2.7,>=2.6.0->tensorflow_text) (0.4.0)\n",
      "Requirement already satisfied: tensorflow-estimator~=2.6 in /usr/local/lib/python3.7/dist-packages (from tensorflow<2.7,>=2.6.0->tensorflow_text) (2.6.0)\n",
      "Requirement already satisfied: wrapt~=1.12.1 in /usr/local/lib/python3.7/dist-packages (from tensorflow<2.7,>=2.6.0->tensorflow_text) (1.12.1)\n",
      "Requirement already satisfied: grpcio<2.0,>=1.37.0 in /usr/local/lib/python3.7/dist-packages (from tensorflow<2.7,>=2.6.0->tensorflow_text) (1.40.0)\n",
      "Requirement already satisfied: h5py~=3.1.0 in /usr/local/lib/python3.7/dist-packages (from tensorflow<2.7,>=2.6.0->tensorflow_text) (3.1.0)\n",
      "Requirement already satisfied: clang~=5.0 in /usr/local/lib/python3.7/dist-packages (from tensorflow<2.7,>=2.6.0->tensorflow_text) (5.0)\n",
      "Requirement already satisfied: numpy~=1.19.2 in /usr/local/lib/python3.7/dist-packages (from tensorflow<2.7,>=2.6.0->tensorflow_text) (1.19.5)\n",
      "Requirement already satisfied: opt-einsum~=3.3.0 in /usr/local/lib/python3.7/dist-packages (from tensorflow<2.7,>=2.6.0->tensorflow_text) (3.3.0)\n",
      "Requirement already satisfied: tensorboard~=2.6 in /usr/local/lib/python3.7/dist-packages (from tensorflow<2.7,>=2.6.0->tensorflow_text) (2.6.0)\n",
      "Requirement already satisfied: typing-extensions~=3.7.4 in /usr/local/lib/python3.7/dist-packages (from tensorflow<2.7,>=2.6.0->tensorflow_text) (3.7.4.3)\n",
      "Requirement already satisfied: keras~=2.6 in /usr/local/lib/python3.7/dist-packages (from tensorflow<2.7,>=2.6.0->tensorflow_text) (2.6.0)\n",
      "Requirement already satisfied: google-pasta~=0.2 in /usr/local/lib/python3.7/dist-packages (from tensorflow<2.7,>=2.6.0->tensorflow_text) (0.2.0)\n",
      "Requirement already satisfied: termcolor~=1.1.0 in /usr/local/lib/python3.7/dist-packages (from tensorflow<2.7,>=2.6.0->tensorflow_text) (1.1.0)\n",
      "Requirement already satisfied: wheel~=0.35 in /usr/local/lib/python3.7/dist-packages (from tensorflow<2.7,>=2.6.0->tensorflow_text) (0.37.0)\n",
      "Requirement already satisfied: protobuf>=3.9.2 in /usr/local/lib/python3.7/dist-packages (from tensorflow<2.7,>=2.6.0->tensorflow_text) (3.17.3)\n",
      "Requirement already satisfied: six~=1.15.0 in /usr/local/lib/python3.7/dist-packages (from tensorflow<2.7,>=2.6.0->tensorflow_text) (1.15.0)\n",
      "Requirement already satisfied: absl-py~=0.10 in /usr/local/lib/python3.7/dist-packages (from tensorflow<2.7,>=2.6.0->tensorflow_text) (0.12.0)\n",
      "Requirement already satisfied: keras-preprocessing~=1.1.2 in /usr/local/lib/python3.7/dist-packages (from tensorflow<2.7,>=2.6.0->tensorflow_text) (1.1.2)\n",
      "Requirement already satisfied: flatbuffers~=1.12.0 in /usr/local/lib/python3.7/dist-packages (from tensorflow<2.7,>=2.6.0->tensorflow_text) (1.12)\n",
      "Requirement already satisfied: cached-property in /usr/local/lib/python3.7/dist-packages (from h5py~=3.1.0->tensorflow<2.7,>=2.6.0->tensorflow_text) (1.5.2)\n",
      "Requirement already satisfied: tensorboard-data-server<0.7.0,>=0.6.0 in /usr/local/lib/python3.7/dist-packages (from tensorboard~=2.6->tensorflow<2.7,>=2.6.0->tensorflow_text) (0.6.1)\n",
      "Requirement already satisfied: markdown>=2.6.8 in /usr/local/lib/python3.7/dist-packages (from tensorboard~=2.6->tensorflow<2.7,>=2.6.0->tensorflow_text) (3.3.4)\n",
      "Requirement already satisfied: requests<3,>=2.21.0 in /usr/local/lib/python3.7/dist-packages (from tensorboard~=2.6->tensorflow<2.7,>=2.6.0->tensorflow_text) (2.23.0)\n",
      "Requirement already satisfied: google-auth<2,>=1.6.3 in /usr/local/lib/python3.7/dist-packages (from tensorboard~=2.6->tensorflow<2.7,>=2.6.0->tensorflow_text) (1.35.0)\n",
      "Requirement already satisfied: tensorboard-plugin-wit>=1.6.0 in /usr/local/lib/python3.7/dist-packages (from tensorboard~=2.6->tensorflow<2.7,>=2.6.0->tensorflow_text) (1.8.0)\n",
      "Requirement already satisfied: werkzeug>=0.11.15 in /usr/local/lib/python3.7/dist-packages (from tensorboard~=2.6->tensorflow<2.7,>=2.6.0->tensorflow_text) (1.0.1)\n",
      "Requirement already satisfied: setuptools>=41.0.0 in /usr/local/lib/python3.7/dist-packages (from tensorboard~=2.6->tensorflow<2.7,>=2.6.0->tensorflow_text) (57.4.0)\n",
      "Requirement already satisfied: google-auth-oauthlib<0.5,>=0.4.1 in /usr/local/lib/python3.7/dist-packages (from tensorboard~=2.6->tensorflow<2.7,>=2.6.0->tensorflow_text) (0.4.6)\n",
      "Requirement already satisfied: rsa<5,>=3.1.4 in /usr/local/lib/python3.7/dist-packages (from google-auth<2,>=1.6.3->tensorboard~=2.6->tensorflow<2.7,>=2.6.0->tensorflow_text) (4.7.2)\n",
      "Requirement already satisfied: cachetools<5.0,>=2.0.0 in /usr/local/lib/python3.7/dist-packages (from google-auth<2,>=1.6.3->tensorboard~=2.6->tensorflow<2.7,>=2.6.0->tensorflow_text) (4.2.2)\n",
      "Requirement already satisfied: pyasn1-modules>=0.2.1 in /usr/local/lib/python3.7/dist-packages (from google-auth<2,>=1.6.3->tensorboard~=2.6->tensorflow<2.7,>=2.6.0->tensorflow_text) (0.2.8)\n",
      "Requirement already satisfied: requests-oauthlib>=0.7.0 in /usr/local/lib/python3.7/dist-packages (from google-auth-oauthlib<0.5,>=0.4.1->tensorboard~=2.6->tensorflow<2.7,>=2.6.0->tensorflow_text) (1.3.0)\n",
      "Requirement already satisfied: importlib-metadata in /usr/local/lib/python3.7/dist-packages (from markdown>=2.6.8->tensorboard~=2.6->tensorflow<2.7,>=2.6.0->tensorflow_text) (4.8.1)\n",
      "Requirement already satisfied: pyasn1<0.5.0,>=0.4.6 in /usr/local/lib/python3.7/dist-packages (from pyasn1-modules>=0.2.1->google-auth<2,>=1.6.3->tensorboard~=2.6->tensorflow<2.7,>=2.6.0->tensorflow_text) (0.4.8)\n",
      "Requirement already satisfied: chardet<4,>=3.0.2 in /usr/local/lib/python3.7/dist-packages (from requests<3,>=2.21.0->tensorboard~=2.6->tensorflow<2.7,>=2.6.0->tensorflow_text) (3.0.4)\n",
      "Requirement already satisfied: certifi>=2017.4.17 in /usr/local/lib/python3.7/dist-packages (from requests<3,>=2.21.0->tensorboard~=2.6->tensorflow<2.7,>=2.6.0->tensorflow_text) (2021.5.30)\n",
      "Requirement already satisfied: urllib3!=1.25.0,!=1.25.1,<1.26,>=1.21.1 in /usr/local/lib/python3.7/dist-packages (from requests<3,>=2.21.0->tensorboard~=2.6->tensorflow<2.7,>=2.6.0->tensorflow_text) (1.24.3)\n",
      "Requirement already satisfied: idna<3,>=2.5 in /usr/local/lib/python3.7/dist-packages (from requests<3,>=2.21.0->tensorboard~=2.6->tensorflow<2.7,>=2.6.0->tensorflow_text) (2.10)\n",
      "Requirement already satisfied: oauthlib>=3.0.0 in /usr/local/lib/python3.7/dist-packages (from requests-oauthlib>=0.7.0->google-auth-oauthlib<0.5,>=0.4.1->tensorboard~=2.6->tensorflow<2.7,>=2.6.0->tensorflow_text) (3.1.1)\n",
      "Requirement already satisfied: zipp>=0.5 in /usr/local/lib/python3.7/dist-packages (from importlib-metadata->markdown>=2.6.8->tensorboard~=2.6->tensorflow<2.7,>=2.6.0->tensorflow_text) (3.5.0)\n",
      "Installing collected packages: tensorflow-text\n",
      "Successfully installed tensorflow-text-2.6.0\n"
     ]
    }
   ],
   "source": [
    "!pip install tensorflow_text"
   ]
  },
  {
   "cell_type": "code",
   "execution_count": 5,
   "metadata": {
    "colab": {
     "base_uri": "https://localhost:8080/"
    },
    "id": "-Jy3moRBosyL",
    "outputId": "feeb4072-d417-41c1-a373-0847aa93c2c7"
   },
   "outputs": [
    {
     "name": "stdout",
     "output_type": "stream",
     "text": [
      "Downloading data from http://storage.googleapis.com/download.tensorflow.org/models/ted_hrlr_translate_pt_en_converter.zip\n",
      "188416/184801 [==============================] - 0s 0us/step\n",
      "196608/184801 [===============================] - 0s 0us/step\n"
     ]
    }
   ],
   "source": [
    "import tensorflow_datasets as tfds\n",
    "import tensorflow_text as text\n",
    "import tensorflow as tf\n",
    "\n",
    "model_name = \"ted_hrlr_translate_pt_en_converter\"\n",
    "tf.keras.utils.get_file(\n",
    "    f\"{model_name}.zip\",\n",
    "    f\"http://storage.googleapis.com/download.tensorflow.org/models/{model_name}.zip\",\n",
    "    cache_dir='.', cache_subdir='', extract=True\n",
    ")\n",
    "tokenizers = tf.saved_model.load(model_name)\n",
    "\n",
    "removed_messages = {'<13628103.1075854036066.JavaMail.evans@thyme>', '<7717017.1075854041870.JavaMail.evans@thyme>', '<10927207.1075854047255.JavaMail.evans@thyme>',\n",
    "                    '<30229870.1075854441633.JavaMail.evans@thyme>', '<15495868.1075861473989.JavaMail.evans@thyme>', '<18112782.1075854449243.JavaMail.evans@thyme>',\n",
    "                    '<12421080.1075851639178.JavaMail.evans@thyme>', '<1429151.1075840948969.JavaMail.evans@thyme>', '<26014676.1075854474765.JavaMail.evans@thyme>',\n",
    "                    '<29393146.1075854491245.JavaMail.evans@thyme>'}\n",
    "out_limits = [103.5, 158.5, 205.5, 247.5, 283.0, 336.0]"
   ]
  },
  {
   "cell_type": "code",
   "execution_count": 6,
   "metadata": {
    "id": "5-yhNkJlxZJZ"
   },
   "outputs": [],
   "source": [
    "from collections import deque\n",
    "\n",
    "def get_documents(col, filter, doc_to_tuple = lambda doc : doc):\n",
    "  num_docs = col.count_documents(filter)\n",
    "  cursor = col.find(filter)\n",
    "  print('Copying cursor...')\n",
    "  collection_data = deque()\n",
    "  i = 0\n",
    "  printProgressBar(i, num_docs, {}, prefix='Progress:', suffix='Complete', length=50, printEnd='')\n",
    "  for doc in cursor:\n",
    "    collection_data.append(doc_to_tuple(doc))\n",
    "    i += 1\n",
    "    if i%100==0:\n",
    "      printProgressBar(i, num_docs, {}, prefix='Progress:', suffix='Complete', length=50, printEnd='')\n",
    "  printProgressBar(i, num_docs, {}, prefix='Progress:', suffix='Complete', length=50)\n",
    "  print('Cursor copied')\n",
    "  return collection_data, num_docs\n",
    "\n",
    "def map_enron(filter, doc_to_tuple, params, map_func, print_params = lambda p: p):\n",
    "  for cluster in ENRON:\n",
    "    print(f'\\nWorking with {cluster.split(\"@\")[1]}')\n",
    "    print('----------------------------------------------')\n",
    "    client, _, col = init_mongodb(cluster,)\n",
    "\n",
    "    collection_data, num_collection = get_documents(col, filter, doc_to_tuple)\n",
    "    print('Starting process...')\n",
    "    printProgressBar(0, num_collection, {}, prefix='Progress:', suffix='Complete', length=50, printEnd='')\n",
    "    for i in range(num_collection):\n",
    "      params = map_func(params, collection_data.pop())\n",
    "      if i%100==0:\n",
    "        printProgressBar(i, num_collection, print_params(params), prefix='Progress:', suffix='Complete', length=50, printEnd='')\n",
    "    printProgressBar(num_collection, num_collection, {}, prefix='Progress:', suffix='Complete', length=50)\n",
    "    client.close()\n",
    "  return params\n",
    "\n",
    "def map_inits(filter, doc_to_tuple, output_params, input_params, map_func, print_params = lambda p: p):\n",
    "  for cluster, aux_clust in [(INIT0, ENRON0), (INIT1, ENRON1), (INIT2, ENRON2)]:\n",
    "    print(f'\\nWorking with {cluster.split(\"@\")[1]}')\n",
    "    print('----------------------------------------------')\n",
    "    client, _, col = init_mongodb(cluster, init=True)\n",
    "    aux_client, _, aux_col = init_mongodb(aux_clust)\n",
    "\n",
    "    collection_data, num_collection = get_documents(col, filter, doc_to_tuple)\n",
    "    print('Starting process...')\n",
    "    printProgressBar(0, num_collection, {}, prefix='Progress:', suffix='Complete', length=50, printEnd='')\n",
    "    for i in range(num_collection):\n",
    "      output_params = map_func(output_params, collection_data.pop(), input_params, aux_col)\n",
    "      if i%100==0:\n",
    "        printProgressBar(i, num_collection, print_params(output_params), prefix='Progress:', suffix='Complete', length=50, printEnd='')\n",
    "    printProgressBar(num_collection, num_collection, {}, prefix='Progress:', suffix='Complete', length=50)\n",
    "    client.close()\n",
    "    aux_client.close()\n",
    "  return output_params"
   ]
  },
  {
   "cell_type": "code",
   "execution_count": 6,
   "metadata": {
    "colab": {
     "base_uri": "https://localhost:8080/"
    },
    "id": "zCwLp6_ugp8k",
    "outputId": "fbd29548-3868-4603-ecb1-a7d462bef60a"
   },
   "outputs": [
    {
     "name": "stdout",
     "output_type": "stream",
     "text": [
      "\n",
      "Working with enron0.oaiur.mongodb.net/EnronDB\n",
      "----------------------------------------------\n",
      "Copying cursor...\n",
      "Progress: |██████████████████████████████████████████████████| 100.00% Complete (130597/130597)\n",
      "Cursor copied\n",
      "Starting process...\n",
      "Progress: |██████████████████████████████████████████████████| 100.00% Complete (130597/130597)\n",
      "\n",
      "Working with enron1.mymux.mongodb.net/EnronDB\n",
      "----------------------------------------------\n",
      "Copying cursor...\n",
      "Progress: |██████████████████████████████████████████████████| 100.00% Complete (78039/78039)\n",
      "Cursor copied\n",
      "Starting process...\n",
      "Progress: |██████████████████████████████████████████████████| 100.00% Complete (78039/78039)\n",
      "\n",
      "Working with enron2.2gdr4.mongodb.net/EnronDB\n",
      "----------------------------------------------\n",
      "Copying cursor...\n",
      "Progress: |██████████████████████████████████████████████████| 100.00% Complete (33800/33800)\n",
      "Progress: |██████████████████████████████████████████████████| 100.00% Complete (33800/33800)\n",
      "Cursor copied\n",
      "Starting process...\n",
      "Progress: |██████████████████████████████████████████████████| 100.00% Complete (33800/33800)\n",
      "In our corpus we have 231278 e-mails\n"
     ]
    }
   ],
   "source": [
    "def create_datalist(params, doc):\n",
    "  dl = params[0]\n",
    "  num_messages = params[1]\n",
    "  limit_init_words = params[2]\n",
    "  del_messages = params[3]\n",
    "  max_inits = params[4]\n",
    "\n",
    "  if msg_belongs_sample(doc[3], doc[2], max_inits, limit_init_words) and doc[0] not in del_messages:\n",
    "    num_messages += 1\n",
    "    dl.append(doc[1])\n",
    "  return dl, num_messages, limit_init_words, del_messages, max_inits\n",
    "\n",
    "def get_maximum_tokenizer_length(params, doc):\n",
    "  max_token_length = params[0]\n",
    "  num_messages = params[1]\n",
    "  limit_init_words = params[2]\n",
    "  del_messages = params[3]\n",
    "  max_inits = params[4]\n",
    "\n",
    "  if msg_belongs_sample(doc[3], doc[2], max_inits, limit_init_words) and doc[0] not in del_messages:\n",
    "    num_messages += 1\n",
    "    size_encoded = len(tokenizers.en.tokenize([doc[1]]).to_list()[0])\n",
    "    if size_encoded > max_token_length:\n",
    "      max_token_length = size_encoded\n",
    "\n",
    "  return max_token_length, num_messages, limit_init_words, del_messages, max_inits\n",
    "\n",
    "dl, num_msgs, _, _, _ = map_enron({\"$and\": [{\"Number_of_Inits\": {\"$lte\": 6}}, {\"Number_of_Words\": {\"$lte\": max(out_limits)}}]}, \n",
    "                                                lambda doc : (doc['Message-ID'], doc['Body'], doc['Number_of_Words'], doc['Number_of_Inits']),\n",
    "                                                   ([], 0, out_limits, removed_messages, 6), create_datalist, lambda p: {})\n",
    "print(f'In our corpus we have {num_msgs} e-mails')"
   ]
  },
  {
   "cell_type": "code",
   "execution_count": 9,
   "metadata": {
    "colab": {
     "base_uri": "https://localhost:8080/"
    },
    "id": "m2Uk4W8098d8",
    "outputId": "dfd5bcbd-a997-4fd9-e47e-23185bde4c33"
   },
   "outputs": [
    {
     "name": "stdout",
     "output_type": "stream",
     "text": [
      "The longest message tokenized has a length of 2172. This is the message:\n",
      "(<tf.Tensor: shape=(), dtype=string, numpy=b\" <http://a564.g.akamaitech.net/7/564/178/rev10-65-160/www.kbtoys.com/g/m/t.gif> <http://a564.g.akamaitech.net/7/564/178/rev10-65-160/www.kbtoys.com/g/m/t.gif> <http://a564.g.akamaitech.net/7/564/178/rev10-65-160/www.kbtoys.com/g/m/KBtoys_Tabs.gif> <http://www.kbtoys.com/campaign.html?redirect=/index.html&campaign=aiid> <http://a564.g.akamaitech.net/7/564/178/rev10-65-160/www.kbtoys.com/g/m/t.gif> <http://a564.g.akamaitech.net/7/564/178/rev10-65-160/www.kbtoys.com/g/m/KBtoys_Search.gif> <http://a564.g.akamaitech.net/7/564/178/rev10-65-160/www.kbtoys.com/g/m/t.gif> <http://a564.g.akamaitech.net/7/564/178/rev10-65-160/www.kbtoys.com/g/m/t.gif> <http://a564.g.akamaitech.net/7/564/178/rev10-65-160/www.kbtoys.com/g/m/KBtoys_SBseperator.gif> <http://a564.g.akamaitech.net/7/564/178/rev10-65-160/www.kbtoys.com/g/m/t.gif> <http://a564.g.akamaitech.net/7/564/178/rev10-65-160/www.kbtoys.com/g/m/KBtoys_SideBar.gif> <http://a564.g.akamaitech.net/7/564/178/rev10-65-160/www.kbtoys.com/g/m/t.gif> <http://www.kbtoys.com/campaign.html?redirect=/kbsearch.html?head=XboxOffer&skeys=GP34001&campaign=aiii> <http://a564.g.akamaitech.net/7/564/178/rev10-65-160/www.kbtoys.com/g/m/KBF1graphic-03.gif>When you purchase selected Xbox Consoles, Accessories or Xbox Games by Microsoft, you'll get a free Xbox Hat and T-Shirt. Offer good while supplies last. <http://a564.g.akamaitech.net/7/564/178/rev10-65-160/www.kbtoys.com/g/m/F1_Separator.gif> <http://a564.g.akamaitech.net/7/564/178/rev10-65-160/www.kbtoys.com/g/m/t.gif> <http://www.kbtoys.com/campaign.html?redirect=/kbsearch.html?head=XboxOffer&skeys=GP34001&campaign=aiij> <http://a564.g.akamaitech.net/7/564/178/rev10-65-160/www.kbtoys.com/g/m/M2_Save.gif> <http://www.kbtoys.com/campaign.html?redirect=/toys/product.html?PID=1044985&campaign=aiik> <http://a564.g.akamaitech.net/7/564/178/rev10-65-160/www.kbtoys.com/g/m/t.gif> Go Anywhere Girls Beach Playhouse <http://www.kbtoys.com/campaign.html?redirect=/toys/product.html?PID=1044985&campaign=aiil> <http://a564.g.akamaitech.net/7/564/178/rev10-65-160/www.kbtoys.com/g/m/t.gif> <http://www.kbtoys.com/campaign.html?redirect=/toys/product.html?PID=1044985&campaign=aiim> <http://a564.g.akamaitech.net/7/564/178/rev10-65-160/www.kbtoys.com/g/m/t.gif> <http://www.kbtoys.com/campaign.html?redirect=/toys/product.html?PID=1013986&campaign=aiin> <http://a564.g.akamaitech.net/7/564/178/rev10-65-160/www.kbtoys.com/g/m/t.gif> Gro to Pro Baseball Set <http://www.kbtoys.com/campaign.html?redirect=/toys/product.html?PID=1013986&campaign=aiio> <http://a564.g.akamaitech.net/7/564/178/rev10-65-160/www.kbtoys.com/g/m/t.gif> <http://www.kbtoys.com/campaign.html?redirect=/toys/product.html?PID=1013986&campaign=aiip> Read the KBtoys.com Privacy Policy <http://www.kbtoys.com/help/privacy.html>. The prices on the featured products were accurate at the time we sent this newsletter. On rare occasions, you may find prices in this newsletter differ from prices at KBtoys.com. You are subscribed as scorman@enron.com. If you don't want to find out about hot new toys and great values from the KBtoys.com newsletter, unsubscribe <http://www.kbtoys.com/Newsletter/UnSubscribe.html?your_email=scorman@enron.com>. We value customer comments and suggestions. However, because this is a promotional newsletter, we can't respond if you reply to this e-mail. <http://www.kbtoys.com/g/m/image_campaign.png?name=newsletterkbtoysbc31202> <http://a564.g.akamaitech.net/7/564/178/KBv10.45-107/www.kbtoys.com/g/m/t.gif> \">, <tf.Tensor: shape=(), dtype=int32, numpy=231278>)\n"
     ]
    }
   ],
   "source": [
    "import numpy as np\n",
    "\n",
    "def get_tokenization_length(t):\n",
    "  return tf.size(tokenizers.en.tokenize([t]).to_tensor())\n",
    "\n",
    "def biggest_token_msg(old_state, input_element):\n",
    "  max_e = tf.math.maximum(old_state[0], input_element)\n",
    "  if (max_e == old_state[0]):\n",
    "    return (old_state[0], old_state[1], old_state[2] + 1)\n",
    "  else:\n",
    "    return (max_e, old_state[2], old_state[2] + 1)\n",
    "\n",
    "ds = tf.data.Dataset.from_tensor_slices(dl)\n",
    "max_tok, index, _ = ds.cache().map(lambda x: get_tokenization_length(x), num_parallel_calls=tf.data.AUTOTUNE).prefetch(tf.data.AUTOTUNE).reduce((np.int32(0), np.int32(0), np.int32(0)), biggest_token_msg)\n",
    "print(f'The longest message tokenized has a length of {max_tok}. This is the message:')\n",
    "print(ds.reduce((tf.constant(''), np.int32(0)), lambda x, y: (y, x[1] + 1) if x[1] == tf.constant(index) else (x[0], x[1] + 1)))"
   ]
  },
  {
   "cell_type": "code",
   "execution_count": 11,
   "metadata": {
    "id": "kJ9RYNwJxv74"
   },
   "outputs": [],
   "source": [
    "def exceeds_max_tokenization(output_params, enc_s, enc_v, enc_o):\n",
    "  exceeds = {'max_s' : (False, 0), 'max_v' : (False, 0), 'max_o' : (False, 0)}\n",
    "  any_exceeds = False\n",
    "  for k, enc in [('max_s', enc_s), ('max_v', enc_v), ('max_o', enc_o)]:\n",
    "    biggest_enc = len(enc[0])\n",
    "    for word in enc:\n",
    "      if len(word) > biggest_enc:\n",
    "        biggest_enc = len(word)\n",
    "    if biggest_enc > output_params[k]:\n",
    "      exceeds[k] = (True, biggest_enc)\n",
    "      any_exceeds = True\n",
    "  return any_exceeds, exceeds\n",
    "\n",
    "def get_max_inits_tokens_len(output_params, doc, input_params, aux_col):\n",
    "  msg_id = doc[0]\n",
    "  s = doc[1].split('¿')\n",
    "  v = doc[2].split('¿')\n",
    "  o = doc[3].split('¿')\n",
    "\n",
    "  if (msg_id not in input_params['removed_messages'] and len(s) <= input_params['max_s']\n",
    "      and len(v) <= input_params['max_v'] and len(o) <= input_params['max_o']):\n",
    "    any_exceeds, exceeds = exceeds_max_tokenization(output_params, \n",
    "                                                    tokenizers.en.tokenize(s).to_list(), \n",
    "                                                    tokenizers.en.tokenize(v).to_list(), \n",
    "                                                    tokenizers.en.tokenize(o).to_list())\n",
    "    if any_exceeds:\n",
    "      cursor = aux_col.find({\"Message-ID\": msg_id})\n",
    "      msgs = [(d['Number_of_Inits'], d['Number_of_Words']) for d in cursor]\n",
    "      max_words = input_params['max_words']\n",
    "      max_inits = input_params['max_inits']\n",
    "      if msg_belongs_sample(msgs[0][0], msgs[0][1], max_inits, max_words):\n",
    "        for k, v in exceeds.items():\n",
    "          if v[0]:\n",
    "            output_params[k] = v[1]\n",
    "\n",
    "  return output_params\n",
    "\n",
    "def create_svo_datalist(output_params, doc, input_params, aux_col):\n",
    "  if msg_belongs_sample(doc[2], doc[1], input_params['max_inits'], input_params['max_words']) and doc[0] not in input_params['removed_messages']:\n",
    "    for d in aux_col.find({\"Message-ID\": doc[0]}):\n",
    "      output_params.append((d['Subject'], d['Verb'], d['Object']))\n",
    "  return output_params\n",
    "\n",
    "def map_inits2(filter, doc_to_tuple, output_params, input_params, map_func, print_params = lambda p: p, ind_cluster = 0):\n",
    "  cluster, aux_clust = [(INIT0, ENRON0), (INIT1, ENRON1), (INIT2, ENRON2)][ind_cluster]\n",
    "  print(f'\\nWorking with {cluster.split(\"@\")[1]}')\n",
    "  print('----------------------------------------------')\n",
    "  client, _, col = init_mongodb(cluster, init=True)\n",
    "  aux_client, _, aux_col = init_mongodb(aux_clust)\n",
    "\n",
    "  collection_data, num_collection = get_documents(aux_col, filter, doc_to_tuple)\n",
    "  print('Starting process...')\n",
    "  printProgressBar(0, num_collection, {}, prefix='Progress:', suffix='Complete', length=50, printEnd='')\n",
    "  for i in range(num_collection):\n",
    "    output_params = map_func(output_params, collection_data.pop(), input_params, col)\n",
    "    if i%100==0:\n",
    "      printProgressBar(i, num_collection, print_params(output_params), prefix='Progress:', suffix='Complete', length=50, printEnd='')\n",
    "  printProgressBar(num_collection, num_collection, {}, prefix='Progress:', suffix='Complete', length=50)\n",
    "  client.close()\n",
    "  aux_client.close()\n",
    "  return output_params"
   ]
  },
  {
   "cell_type": "code",
   "execution_count": 12,
   "metadata": {
    "colab": {
     "base_uri": "https://localhost:8080/"
    },
    "id": "uYHxpymy8doZ",
    "outputId": "49a2dcd9-d761-416d-8ffd-323f85c0b1e6"
   },
   "outputs": [
    {
     "name": "stdout",
     "output_type": "stream",
     "text": [
      "\n",
      "Working with init0.k77xt.mongodb.net/EnronDB\n",
      "----------------------------------------------\n",
      "Copying cursor...\n",
      "Progress: |██████████████████████████████████████████████████| 100.00% Complete (130597/130597)\n",
      "Cursor copied\n",
      "Starting process...\n",
      "Progress: |██████████████████████████████████████████████████| 100.00% Complete (130597/130597)\n"
     ]
    }
   ],
   "source": [
    "input_params = {'removed_messages' : removed_messages, 'max_inits': 6, 'max_words': out_limits}\n",
    "output_params = map_inits2({\"$and\": [{\"Number_of_Inits\": {\"$lte\": 6}}, {\"Number_of_Words\": {\"$lte\": max(out_limits)}}]}, \n",
    "                          lambda doc : (doc['Message-ID'], doc['Number_of_Words'], doc['Number_of_Inits']),\n",
    "                          [], input_params, create_svo_datalist, lambda p: {}, 0)"
   ]
  },
  {
   "cell_type": "code",
   "execution_count": 13,
   "metadata": {
    "colab": {
     "base_uri": "https://localhost:8080/"
    },
    "id": "OQnolJgox_Hx",
    "outputId": "30f1151e-ca71-44ea-cc36-9d0b73666db7"
   },
   "outputs": [
    {
     "name": "stdout",
     "output_type": "stream",
     "text": [
      "\n",
      "Working with init.mbcg7.mongodb.net/EnronDB\n",
      "----------------------------------------------\n",
      "Copying cursor...\n",
      "Progress: |██████████████████████████████████████████████████| 100.00% Complete (78039/78039)\n",
      "Cursor copied\n",
      "Starting process...\n",
      "Progress: |██████████████████████████████████████████████████| 100.00% Complete (78039/78039)\n"
     ]
    }
   ],
   "source": [
    "input_params = {'removed_messages' : removed_messages, 'max_inits': 6, 'max_words': out_limits}\n",
    "output_params = map_inits2({\"$and\": [{\"Number_of_Inits\": {\"$lte\": 6}}, {\"Number_of_Words\": {\"$lte\": max(out_limits)}}]}, \n",
    "                          lambda doc : (doc['Message-ID'], doc['Number_of_Words'], doc['Number_of_Inits']),\n",
    "                          output_params, input_params, create_svo_datalist, lambda p: {}, 1)"
   ]
  },
  {
   "cell_type": "code",
   "execution_count": 14,
   "metadata": {
    "colab": {
     "base_uri": "https://localhost:8080/"
    },
    "id": "dZz0VoH3yDoq",
    "outputId": "49a8bb7a-2d6c-4952-ab7f-42ce4bf6db50"
   },
   "outputs": [
    {
     "name": "stdout",
     "output_type": "stream",
     "text": [
      "\n",
      "Working with init2.xw3zm.mongodb.net/EnronDB\n",
      "----------------------------------------------\n",
      "Copying cursor...\n",
      "Progress: |██████████████████████████████████████████████████| 100.00% Complete (33800/33800)\n",
      "Progress: |██████████████████████████████████████████████████| 100.00% Complete (33800/33800)\n",
      "Cursor copied\n",
      "Starting process...\n",
      "Progress: |██████████████████████████████████████████████████| 100.00% Complete (33800/33800)\n"
     ]
    }
   ],
   "source": [
    "input_params = {'removed_messages' : removed_messages, 'max_inits': 6, 'max_words': out_limits}\n",
    "output_params = map_inits2({\"$and\": [{\"Number_of_Inits\": {\"$lte\": 6}}, {\"Number_of_Words\": {\"$lte\": max(out_limits)}}]}, \n",
    "                          lambda doc : (doc['Message-ID'], doc['Number_of_Words'], doc['Number_of_Inits']),\n",
    "                          output_params, input_params, create_svo_datalist, lambda p: {}, 2)"
   ]
  },
  {
   "cell_type": "code",
   "execution_count": 61,
   "metadata": {
    "colab": {
     "base_uri": "https://localhost:8080/"
    },
    "id": "WWfwjR3JoXXc",
    "outputId": "877c8e41-1bee-451c-8bb3-c7e451df4215"
   },
   "outputs": [
    {
     "name": "stdout",
     "output_type": "stream",
     "text": [
      "<TensorSliceDataset shapes: (3,), types: tf.string>\n",
      "<ParallelMapDataset shapes: ((), (), ()), types: (tf.int32, tf.int32, tf.int32)>\n"
     ]
    }
   ],
   "source": [
    "import numpy as np\n",
    "\n",
    "def tokenize_svo(t):\n",
    "  s = t[0]\n",
    "  v = t[1]\n",
    "  o = t[2]\n",
    "  max_s = 0\n",
    "  encode = tokenizers.en.tokenize(tf.strings.split(s, '¿'))\n",
    "  for i in range(tf.size(encode)):\n",
    "    if tf.size(encode[i]) > max_s:\n",
    "      max_s = tf.size(encode[i])\n",
    "\n",
    "  max_v = 0\n",
    "  encode = tokenizers.en.tokenize(tf.strings.split(v, '¿'))\n",
    "  for i in range(tf.size(encode)):\n",
    "    if tf.size(encode[i]) > max_v:\n",
    "      max_v = tf.size(encode[i])\n",
    "\n",
    "  max_o = 0\n",
    "  encode = tokenizers.en.tokenize(tf.strings.split(o, '¿'))\n",
    "  for i in range(tf.size(encode)):\n",
    "    if tf.size(encode[i]) > max_o:\n",
    "      max_o = tf.size(encode[i])\n",
    "\n",
    "  return (max_s, max_v, max_o)\n",
    "\n",
    "def biggest_token_svo(old_state, input_element):\n",
    "  max_s = tf.math.maximum(old_state[0], input_element[0])\n",
    "  max_v = tf.math.maximum(old_state[1], input_element[1])\n",
    "  max_o = tf.math.maximum(old_state[2], input_element[2])\n",
    "\n",
    "  return (max_s, max_v, max_o)\n",
    "\n",
    "ds = tf.data.Dataset.from_tensor_slices(output_params)\n",
    "print(ds)\n",
    "ds1 = ds.cache().map(lambda x: tokenize_svo(x), num_parallel_calls=tf.data.AUTOTUNE)\n",
    "print(ds1)"
   ]
  },
  {
   "cell_type": "code",
   "execution_count": 69,
   "metadata": {
    "id": "GIgxSgqPWzUi"
   },
   "outputs": [],
   "source": [
    "tf.data.experimental.save(ds, 'dss/')"
   ]
  },
  {
   "cell_type": "code",
   "execution_count": 70,
   "metadata": {
    "colab": {
     "base_uri": "https://localhost:8080/"
    },
    "id": "XaEFTlfAfnGh",
    "outputId": "5f03f96f-ff15-4f45-b851-424921dcf670"
   },
   "outputs": [
    {
     "name": "stdout",
     "output_type": "stream",
     "text": [
      "  adding: content/dss/ (stored 0%)\n",
      "  adding: content/dss/snapshot.metadata (stored 0%)\n",
      "  adding: content/dss/dataset_spec.pb (stored 0%)\n",
      "  adding: content/dss/8151253946209299987/ (stored 0%)\n",
      "  adding: content/dss/8151253946209299987/00000000.shard/ (stored 0%)\n",
      "  adding: content/dss/8151253946209299987/00000000.shard/00000000.snapshot (deflated 68%)\n"
     ]
    }
   ],
   "source": [
    "!zip -r /content/file.zip /content/dss"
   ]
  },
  {
   "cell_type": "code",
   "execution_count": 64,
   "metadata": {
    "colab": {
     "base_uri": "https://localhost:8080/",
     "height": 306
    },
    "id": "iYt1dPQWQC7L",
    "outputId": "dd318c12-02d0-4bf2-a2f4-5779103de6a2"
   },
   "outputs": [
    {
     "ename": "InvalidArgumentError",
     "evalue": "ignored",
     "output_type": "error",
     "traceback": [
      "\u001b[0;31m---------------------------------------------------------------------------\u001b[0m",
      "\u001b[0;31mInvalidArgumentError\u001b[0m                      Traceback (most recent call last)",
      "\u001b[0;32m<ipython-input-64-07cf568a14d8>\u001b[0m in \u001b[0;36m<module>\u001b[0;34m()\u001b[0m\n\u001b[0;32m----> 1\u001b[0;31m \u001b[0mmax_s\u001b[0m\u001b[0;34m,\u001b[0m \u001b[0mmax_v\u001b[0m\u001b[0;34m,\u001b[0m \u001b[0mmax_o\u001b[0m \u001b[0;34m=\u001b[0m \u001b[0mds1\u001b[0m\u001b[0;34m.\u001b[0m\u001b[0mreduce\u001b[0m\u001b[0;34m(\u001b[0m\u001b[0;34m(\u001b[0m\u001b[0mnp\u001b[0m\u001b[0;34m.\u001b[0m\u001b[0mint32\u001b[0m\u001b[0;34m(\u001b[0m\u001b[0;36m0\u001b[0m\u001b[0;34m)\u001b[0m\u001b[0;34m,\u001b[0m \u001b[0mnp\u001b[0m\u001b[0;34m.\u001b[0m\u001b[0mint32\u001b[0m\u001b[0;34m(\u001b[0m\u001b[0;36m0\u001b[0m\u001b[0;34m)\u001b[0m\u001b[0;34m,\u001b[0m \u001b[0mnp\u001b[0m\u001b[0;34m.\u001b[0m\u001b[0mint32\u001b[0m\u001b[0;34m(\u001b[0m\u001b[0;36m0\u001b[0m\u001b[0;34m)\u001b[0m\u001b[0;34m)\u001b[0m\u001b[0;34m,\u001b[0m \u001b[0mbiggest_token_svo\u001b[0m\u001b[0;34m)\u001b[0m\u001b[0;34m.\u001b[0m\u001b[0mprefetch\u001b[0m\u001b[0;34m(\u001b[0m\u001b[0mtf\u001b[0m\u001b[0;34m.\u001b[0m\u001b[0mdata\u001b[0m\u001b[0;34m.\u001b[0m\u001b[0mAUTOTUNE\u001b[0m\u001b[0;34m)\u001b[0m\u001b[0;34m\u001b[0m\u001b[0;34m\u001b[0m\u001b[0m\n\u001b[0m\u001b[1;32m      2\u001b[0m \u001b[0mprint\u001b[0m\u001b[0;34m(\u001b[0m\u001b[0;34mf'The longest subject tokenized has a length of {max_s}.'\u001b[0m\u001b[0;34m)\u001b[0m\u001b[0;34m\u001b[0m\u001b[0;34m\u001b[0m\u001b[0m\n\u001b[1;32m      3\u001b[0m \u001b[0mprint\u001b[0m\u001b[0;34m(\u001b[0m\u001b[0;34mf'The longest verb tokenized has a length of {max_v}.'\u001b[0m\u001b[0;34m)\u001b[0m\u001b[0;34m\u001b[0m\u001b[0;34m\u001b[0m\u001b[0m\n\u001b[1;32m      4\u001b[0m \u001b[0mprint\u001b[0m\u001b[0;34m(\u001b[0m\u001b[0;34mf'The longest object tokenized has a length of {max_o}.'\u001b[0m\u001b[0;34m)\u001b[0m\u001b[0;34m\u001b[0m\u001b[0;34m\u001b[0m\u001b[0m\n",
      "\u001b[0;32m/usr/local/lib/python3.7/dist-packages/tensorflow/python/data/ops/dataset_ops.py\u001b[0m in \u001b[0;36mreduce\u001b[0;34m(self, initial_state, reduce_func)\u001b[0m\n\u001b[1;32m   2341\u001b[0m             \u001b[0mf\u001b[0m\u001b[0;34m=\u001b[0m\u001b[0mreduce_func\u001b[0m\u001b[0;34m,\u001b[0m\u001b[0;34m\u001b[0m\u001b[0;34m\u001b[0m\u001b[0m\n\u001b[1;32m   2342\u001b[0m             \u001b[0moutput_shapes\u001b[0m\u001b[0;34m=\u001b[0m\u001b[0mstructure\u001b[0m\u001b[0;34m.\u001b[0m\u001b[0mget_flat_tensor_shapes\u001b[0m\u001b[0;34m(\u001b[0m\u001b[0mstate_structure\u001b[0m\u001b[0;34m)\u001b[0m\u001b[0;34m,\u001b[0m\u001b[0;34m\u001b[0m\u001b[0;34m\u001b[0m\u001b[0m\n\u001b[0;32m-> 2343\u001b[0;31m             output_types=structure.get_flat_tensor_types(state_structure)))\n\u001b[0m\u001b[1;32m   2344\u001b[0m \u001b[0;34m\u001b[0m\u001b[0m\n\u001b[1;32m   2345\u001b[0m   \u001b[0;32mdef\u001b[0m \u001b[0mget_single_element\u001b[0m\u001b[0;34m(\u001b[0m\u001b[0mself\u001b[0m\u001b[0;34m)\u001b[0m\u001b[0;34m:\u001b[0m\u001b[0;34m\u001b[0m\u001b[0;34m\u001b[0m\u001b[0m\n",
      "\u001b[0;32m/usr/local/lib/python3.7/dist-packages/tensorflow/python/ops/gen_dataset_ops.py\u001b[0m in \u001b[0;36mreduce_dataset\u001b[0;34m(input_dataset, initial_state, other_arguments, f, output_types, output_shapes, use_inter_op_parallelism, name)\u001b[0m\n\u001b[1;32m   5854\u001b[0m       \u001b[0;32mreturn\u001b[0m \u001b[0m_result\u001b[0m\u001b[0;34m\u001b[0m\u001b[0;34m\u001b[0m\u001b[0m\n\u001b[1;32m   5855\u001b[0m     \u001b[0;32mexcept\u001b[0m \u001b[0m_core\u001b[0m\u001b[0;34m.\u001b[0m\u001b[0m_NotOkStatusException\u001b[0m \u001b[0;32mas\u001b[0m \u001b[0me\u001b[0m\u001b[0;34m:\u001b[0m\u001b[0;34m\u001b[0m\u001b[0;34m\u001b[0m\u001b[0m\n\u001b[0;32m-> 5856\u001b[0;31m       \u001b[0m_ops\u001b[0m\u001b[0;34m.\u001b[0m\u001b[0mraise_from_not_ok_status\u001b[0m\u001b[0;34m(\u001b[0m\u001b[0me\u001b[0m\u001b[0;34m,\u001b[0m \u001b[0mname\u001b[0m\u001b[0;34m)\u001b[0m\u001b[0;34m\u001b[0m\u001b[0;34m\u001b[0m\u001b[0m\n\u001b[0m\u001b[1;32m   5857\u001b[0m     \u001b[0;32mexcept\u001b[0m \u001b[0m_core\u001b[0m\u001b[0;34m.\u001b[0m\u001b[0m_FallbackException\u001b[0m\u001b[0;34m:\u001b[0m\u001b[0;34m\u001b[0m\u001b[0;34m\u001b[0m\u001b[0m\n\u001b[1;32m   5858\u001b[0m       \u001b[0;32mpass\u001b[0m\u001b[0;34m\u001b[0m\u001b[0;34m\u001b[0m\u001b[0m\n",
      "\u001b[0;32m/usr/local/lib/python3.7/dist-packages/tensorflow/python/framework/ops.py\u001b[0m in \u001b[0;36mraise_from_not_ok_status\u001b[0;34m(e, name)\u001b[0m\n\u001b[1;32m   6939\u001b[0m   \u001b[0mmessage\u001b[0m \u001b[0;34m=\u001b[0m \u001b[0me\u001b[0m\u001b[0;34m.\u001b[0m\u001b[0mmessage\u001b[0m \u001b[0;34m+\u001b[0m \u001b[0;34m(\u001b[0m\u001b[0;34m\" name: \"\u001b[0m \u001b[0;34m+\u001b[0m \u001b[0mname\u001b[0m \u001b[0;32mif\u001b[0m \u001b[0mname\u001b[0m \u001b[0;32mis\u001b[0m \u001b[0;32mnot\u001b[0m \u001b[0;32mNone\u001b[0m \u001b[0;32melse\u001b[0m \u001b[0;34m\"\"\u001b[0m\u001b[0;34m)\u001b[0m\u001b[0;34m\u001b[0m\u001b[0;34m\u001b[0m\u001b[0m\n\u001b[1;32m   6940\u001b[0m   \u001b[0;31m# pylint: disable=protected-access\u001b[0m\u001b[0;34m\u001b[0m\u001b[0;34m\u001b[0m\u001b[0;34m\u001b[0m\u001b[0m\n\u001b[0;32m-> 6941\u001b[0;31m   \u001b[0msix\u001b[0m\u001b[0;34m.\u001b[0m\u001b[0mraise_from\u001b[0m\u001b[0;34m(\u001b[0m\u001b[0mcore\u001b[0m\u001b[0;34m.\u001b[0m\u001b[0m_status_to_exception\u001b[0m\u001b[0;34m(\u001b[0m\u001b[0me\u001b[0m\u001b[0;34m.\u001b[0m\u001b[0mcode\u001b[0m\u001b[0;34m,\u001b[0m \u001b[0mmessage\u001b[0m\u001b[0;34m)\u001b[0m\u001b[0;34m,\u001b[0m \u001b[0;32mNone\u001b[0m\u001b[0;34m)\u001b[0m\u001b[0;34m\u001b[0m\u001b[0;34m\u001b[0m\u001b[0m\n\u001b[0m\u001b[1;32m   6942\u001b[0m   \u001b[0;31m# pylint: enable=protected-access\u001b[0m\u001b[0;34m\u001b[0m\u001b[0;34m\u001b[0m\u001b[0;34m\u001b[0m\u001b[0m\n\u001b[1;32m   6943\u001b[0m \u001b[0;34m\u001b[0m\u001b[0m\n",
      "\u001b[0;32m/usr/local/lib/python3.7/dist-packages/six.py\u001b[0m in \u001b[0;36mraise_from\u001b[0;34m(value, from_value)\u001b[0m\n",
      "\u001b[0;31mInvalidArgumentError\u001b[0m: slice index 2 of dimension 0 out of bounds.\n\t [[{{node while/body/_1/while/RaggedGetItem/strided_slice_3}}]] [Op:ReduceDataset]"
     ]
    }
   ],
   "source": [
    "max_s, max_v, max_o = ds1.reduce((np.int32(0), np.int32(0), np.int32(0)), biggest_token_svo).prefetch(tf.data.AUTOTUNE)\n",
    "print(f'The longest subject tokenized has a length of {max_s}.')\n",
    "print(f'The longest verb tokenized has a length of {max_v}.')\n",
    "print(f'The longest object tokenized has a length of {max_o}.')"
   ]
  }
 ],
 "metadata": {
  "colab": {
   "collapsed_sections": [],
   "name": "Init EDA.ipynb",
   "provenance": []
  },
  "kernelspec": {
   "display_name": "Python 3 (ipykernel)",
   "language": "python",
   "name": "python3"
  },
  "language_info": {
   "codemirror_mode": {
    "name": "ipython",
    "version": 3
   },
   "file_extension": ".py",
   "mimetype": "text/x-python",
   "name": "python",
   "nbconvert_exporter": "python",
   "pygments_lexer": "ipython3",
   "version": "3.7.11"
  }
 },
 "nbformat": 4,
 "nbformat_minor": 1
}
